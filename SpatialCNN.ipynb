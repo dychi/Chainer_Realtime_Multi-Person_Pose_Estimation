{
 "cells": [
  {
   "cell_type": "code",
   "execution_count": 1,
   "metadata": {},
   "outputs": [],
   "source": [
    "import numpy as np\n",
    "from PIL import Image\n",
    "import matplotlib.pyplot as plt\n",
    "%matplotlib inline\n",
    "\n",
    "import chainer\n",
    "import chainer.links as L\n",
    "import chainer.functions as F\n",
    "from chainer.links import caffe\n",
    "from chainer.serializers import npz"
   ]
  },
  {
   "cell_type": "code",
   "execution_count": 4,
   "metadata": {},
   "outputs": [
    {
     "ename": "FileNotFoundError",
     "evalue": "[Errno 2] No such file or directory: '../VGG_CNN_M_2048.caffemodel'",
     "output_type": "error",
     "traceback": [
      "\u001b[0;31m---------------------------------------------------------------------------\u001b[0m",
      "\u001b[0;31mFileNotFoundError\u001b[0m                         Traceback (most recent call last)",
      "\u001b[0;32m<ipython-input-4-9341bd064a04>\u001b[0m in \u001b[0;36m<module>\u001b[0;34m()\u001b[0m\n\u001b[1;32m      1\u001b[0m \u001b[0;31m## save caffemodel needed once\u001b[0m\u001b[0;34m\u001b[0m\u001b[0;34m\u001b[0m\u001b[0m\n\u001b[0;32m----> 2\u001b[0;31m \u001b[0mcaffemodel\u001b[0m \u001b[0;34m=\u001b[0m \u001b[0mcaffe\u001b[0m\u001b[0;34m.\u001b[0m\u001b[0mCaffeFunction\u001b[0m\u001b[0;34m(\u001b[0m\u001b[0;34m'../VGG_CNN_M_2048.caffemodel'\u001b[0m\u001b[0;34m)\u001b[0m\u001b[0;34m\u001b[0m\u001b[0m\n\u001b[0m\u001b[1;32m      3\u001b[0m \u001b[0mnpz\u001b[0m\u001b[0;34m.\u001b[0m\u001b[0msave_npz\u001b[0m\u001b[0;34m(\u001b[0m\u001b[0;34m'VGG_CNN_M_2048.npz'\u001b[0m\u001b[0;34m,\u001b[0m \u001b[0mcaffemodel\u001b[0m\u001b[0;34m,\u001b[0m \u001b[0mcompression\u001b[0m\u001b[0;34m=\u001b[0m\u001b[0;32mFalse\u001b[0m\u001b[0;34m)\u001b[0m\u001b[0;34m\u001b[0m\u001b[0m\n",
      "\u001b[0;32m~/.pyenv/versions/anaconda3-5.0.0/lib/python3.6/site-packages/chainer/links/caffe/caffe_function.py\u001b[0m in \u001b[0;36m__init__\u001b[0;34m(self, model_path)\u001b[0m\n\u001b[1;32m    101\u001b[0m \u001b[0;34m\u001b[0m\u001b[0m\n\u001b[1;32m    102\u001b[0m         \u001b[0mnet\u001b[0m \u001b[0;34m=\u001b[0m \u001b[0mcaffe_pb\u001b[0m\u001b[0;34m.\u001b[0m\u001b[0mNetParameter\u001b[0m\u001b[0;34m(\u001b[0m\u001b[0;34m)\u001b[0m\u001b[0;34m\u001b[0m\u001b[0m\n\u001b[0;32m--> 103\u001b[0;31m         \u001b[0;32mwith\u001b[0m \u001b[0mopen\u001b[0m\u001b[0;34m(\u001b[0m\u001b[0mmodel_path\u001b[0m\u001b[0;34m,\u001b[0m \u001b[0;34m'rb'\u001b[0m\u001b[0;34m)\u001b[0m \u001b[0;32mas\u001b[0m \u001b[0mmodel_file\u001b[0m\u001b[0;34m:\u001b[0m\u001b[0;34m\u001b[0m\u001b[0m\n\u001b[0m\u001b[1;32m    104\u001b[0m             \u001b[0mnet\u001b[0m\u001b[0;34m.\u001b[0m\u001b[0mMergeFromString\u001b[0m\u001b[0;34m(\u001b[0m\u001b[0mmodel_file\u001b[0m\u001b[0;34m.\u001b[0m\u001b[0mread\u001b[0m\u001b[0;34m(\u001b[0m\u001b[0;34m)\u001b[0m\u001b[0;34m)\u001b[0m\u001b[0;34m\u001b[0m\u001b[0m\n\u001b[1;32m    105\u001b[0m \u001b[0;34m\u001b[0m\u001b[0m\n",
      "\u001b[0;31mFileNotFoundError\u001b[0m: [Errno 2] No such file or directory: '../VGG_CNN_M_2048.caffemodel'"
     ]
    }
   ],
   "source": [
    "## save caffemodel needed once\n",
    "caffemodel = caffe.CaffeFunction('../VGG_CNN_M_2048.caffemodel')\n",
    "npz.save_npz('VGG_CNN_M_2048.npz', caffemodel, compression=False)"
   ]
  },
  {
   "cell_type": "code",
   "execution_count": 2,
   "metadata": {},
   "outputs": [
    {
     "ename": "FileNotFoundError",
     "evalue": "[Errno 2] No such file or directory: '../Chainer_Realtime_Multi-Person_Pose_Estimation/VGG_CNN_M_2048.npz'",
     "output_type": "error",
     "traceback": [
      "\u001b[0;31m---------------------------------------------------------------------------\u001b[0m",
      "\u001b[0;31mFileNotFoundError\u001b[0m                         Traceback (most recent call last)",
      "\u001b[0;32m<ipython-input-2-4d28e9be56e2>\u001b[0m in \u001b[0;36m<module>\u001b[0;34m()\u001b[0m\n\u001b[0;32m----> 1\u001b[0;31m \u001b[0mmodel_npz\u001b[0m \u001b[0;34m=\u001b[0m \u001b[0mnp\u001b[0m\u001b[0;34m.\u001b[0m\u001b[0mload\u001b[0m\u001b[0;34m(\u001b[0m\u001b[0;34m'../Chainer_Realtime_Multi-Person_Pose_Estimation/VGG_CNN_M_2048.npz'\u001b[0m\u001b[0;34m)\u001b[0m\u001b[0;34m\u001b[0m\u001b[0m\n\u001b[0m\u001b[1;32m      2\u001b[0m \u001b[0mprint\u001b[0m\u001b[0;34m(\u001b[0m\u001b[0mmodel_npz\u001b[0m\u001b[0;34m.\u001b[0m\u001b[0mkeys\u001b[0m\u001b[0;34m(\u001b[0m\u001b[0;34m)\u001b[0m\u001b[0;34m)\u001b[0m\u001b[0;34m\u001b[0m\u001b[0m\n",
      "\u001b[0;32m~/.pyenv/versions/anaconda3-5.0.0/lib/python3.6/site-packages/numpy/lib/npyio.py\u001b[0m in \u001b[0;36mload\u001b[0;34m(file, mmap_mode, allow_pickle, fix_imports, encoding)\u001b[0m\n\u001b[1;32m    368\u001b[0m     \u001b[0mown_fid\u001b[0m \u001b[0;34m=\u001b[0m \u001b[0;32mFalse\u001b[0m\u001b[0;34m\u001b[0m\u001b[0m\n\u001b[1;32m    369\u001b[0m     \u001b[0;32mif\u001b[0m \u001b[0misinstance\u001b[0m\u001b[0;34m(\u001b[0m\u001b[0mfile\u001b[0m\u001b[0;34m,\u001b[0m \u001b[0mbasestring\u001b[0m\u001b[0;34m)\u001b[0m\u001b[0;34m:\u001b[0m\u001b[0;34m\u001b[0m\u001b[0m\n\u001b[0;32m--> 370\u001b[0;31m         \u001b[0mfid\u001b[0m \u001b[0;34m=\u001b[0m \u001b[0mopen\u001b[0m\u001b[0;34m(\u001b[0m\u001b[0mfile\u001b[0m\u001b[0;34m,\u001b[0m \u001b[0;34m\"rb\"\u001b[0m\u001b[0;34m)\u001b[0m\u001b[0;34m\u001b[0m\u001b[0m\n\u001b[0m\u001b[1;32m    371\u001b[0m         \u001b[0mown_fid\u001b[0m \u001b[0;34m=\u001b[0m \u001b[0;32mTrue\u001b[0m\u001b[0;34m\u001b[0m\u001b[0m\n\u001b[1;32m    372\u001b[0m     \u001b[0;32melif\u001b[0m \u001b[0mis_pathlib_path\u001b[0m\u001b[0;34m(\u001b[0m\u001b[0mfile\u001b[0m\u001b[0;34m)\u001b[0m\u001b[0;34m:\u001b[0m\u001b[0;34m\u001b[0m\u001b[0m\n",
      "\u001b[0;31mFileNotFoundError\u001b[0m: [Errno 2] No such file or directory: '../Chainer_Realtime_Multi-Person_Pose_Estimation/VGG_CNN_M_2048.npz'"
     ]
    }
   ],
   "source": [
    "model_npz = np.load('./VGG_CNN_M_2048.npz')\n",
    "print(model_npz.keys())"
   ]
  },
  {
   "cell_type": "code",
   "execution_count": 97,
   "metadata": {
    "collapsed": true
   },
   "outputs": [],
   "source": [
    "# define MyVGG\n",
    "class VGG(chainer.Chain):\n",
    "    def __init__(self, pretrained_model='VGG_CNN_M_2048.npz'):\n",
    "        super(VGG, self).__init__()\n",
    "        with self.init_scope():\n",
    "            self.base = BaseVGG()\n",
    "            self.fc6 = L.Linear(None, 4096)\n",
    "            self.fc7 = L.Linear(4096, 2048)\n",
    "        npz.load_npz(pretrained_model, self.base)\n",
    "            \n",
    "    def __call__(self, x):\n",
    "        h = self.predict(x)\n",
    "        return h\n",
    "        \n",
    "    def predict(self, x):\n",
    "        h = self.base(x)\n",
    "        h = F.dropout(F.relu(self.fc6(h)), ratio=.5)\n",
    "        h = F.dropout(F.relu(self.fc7(h)), ratio=.5)\n",
    "        return h"
   ]
  },
  {
   "cell_type": "code",
   "execution_count": 91,
   "metadata": {
    "collapsed": true
   },
   "outputs": [],
   "source": [
    "# define VGG_CNN_M_2048\n",
    "class BaseVGG(chainer.Chain):\n",
    "    def __init__(self):\n",
    "        super(BaseVGG, self).__init__()\n",
    "        with self.init_scope():\n",
    "            self.conv1 = L.Convolution2D(None, out_channels=96, ksize=7, stride=2)\n",
    "            self.conv2 = L.Convolution2D(96, out_channels=256, ksize=5, stride=2)\n",
    "            self.conv3 = L.Convolution2D(256, out_channels=512, ksize=3, pad=1)\n",
    "            self.conv4 = L.Convolution2D(512, out_channels=512, ksize=3, pad=1)\n",
    "            self.conv5 = L.Convolution2D(512, out_channels=512, ksize=3, stride=2)\n",
    "            \n",
    "    def __call__(self, x):\n",
    "        h = F.relu(self.conv1(x))\n",
    "        h = F.local_response_normalization(h, n=5, k=2, alpha=0.0005, beta=0.75)\n",
    "        h = F.max_pooling_2d(h, ksize=3, stride=2)\n",
    "        \n",
    "        h = F.relu(self.conv2(h))\n",
    "        h = F.local_response_normalization(h, n=5, k=2, alpha=0.0005, beta=0.75)\n",
    "        h = F.max_pooling_2d(h, ksize=3, stride=2)\n",
    "        \n",
    "        h = F.relu(self.conv3(h))\n",
    "        \n",
    "        h = F.relu(self.conv4(h))\n",
    "        \n",
    "        h = F.relu(self.conv5(h))\n",
    "        h = F.max_pooling_2d(h, ksize=3, stride=2)\n",
    "        \n",
    "        return h"
   ]
  },
  {
   "cell_type": "code",
   "execution_count": 98,
   "metadata": {
    "collapsed": true
   },
   "outputs": [],
   "source": []
  },
  {
   "cell_type": "code",
   "execution_count": null,
   "metadata": {
    "collapsed": true
   },
   "outputs": [],
   "source": []
  },
  {
   "cell_type": "code",
   "execution_count": 7,
   "metadata": {},
   "outputs": [
    {
     "name": "stdout",
     "output_type": "stream",
     "text": [
      "(224, 224, 3)\n",
      "(1, 3, 224, 224)\n"
     ]
    },
    {
     "data": {
      "image/png": "[encoded data removed]",
      "text/plain": [
       "<matplotlib.figure.Figure at 0x10fcdb128>"
      ]
     },
     "metadata": {},
     "output_type": "display_data"
    }
   ],
   "source": [
    "# 入力画像サイズの定義\n",
    "image_shape = (224, 224)\n",
    "\n",
    "# 画像を読み込み、RGB形式に変換する\n",
    "image = Image.open('./data/crop_01.png').convert('RGB')\n",
    "# 画像のリサイズとクリップ\n",
    "image_w, image_h = image_shape\n",
    "w, h = image.size\n",
    "if w > h:\n",
    "    shape = [image_w * w / h, image_h]\n",
    "else:\n",
    "    shape = [image_w, image_h * h / w]\n",
    "x = (shape[0] - image_w) / 2\n",
    "y = (shape[1] - image_h) / 2\n",
    "image = image.resize(image_shape)\n",
    "#image = image.crop((x, y, x + image_w, y + image_h)) # cropしない\n",
    "pixels = np.asarray(image).astype(np.float32)\n",
    "print(pixels.shape)\n",
    "\n",
    "\n",
    "# pixelsは3次元でそれぞれの軸は[Y座標, X座標, RGB]を表す\n",
    "# 入力データは4次元で[画像インデックス, BGR, Y座標, X座標]なので、配列の変換を行う\n",
    "# RGBからBGRに変換する\n",
    "pixels = pixels[:,:,::-1]\n",
    "\n",
    "# 軸を入れ替える\n",
    "pixels = pixels.transpose(2,0,1)\n",
    "\n",
    "# 平均画像を引く\n",
    "mean_image = np.ndarray((3, 224, 224), dtype=np.float32)\n",
    "mean_image[0] = 103.939\n",
    "mean_image[1] = 116.779\n",
    "mean_image[2] = 123.68\n",
    "pixels -= mean_image\n",
    "\n",
    "# 4次元にする\n",
    "pixels = pixels.reshape((1,) + pixels.shape)\n",
    "plt.imshow(image)\n",
    "print(pixels.shape)"
   ]
  },
  {
   "cell_type": "code",
   "execution_count": 8,
   "metadata": {},
   "outputs": [
    {
     "ename": "NameError",
     "evalue": "name 'VGG' is not defined",
     "output_type": "error",
     "traceback": [
      "\u001b[0;31m---------------------------------------------------------------------------\u001b[0m",
      "\u001b[0;31mNameError\u001b[0m                                 Traceback (most recent call last)",
      "\u001b[0;32m<ipython-input-8-5ad5371561a0>\u001b[0m in \u001b[0;36m<module>\u001b[0;34m()\u001b[0m\n\u001b[1;32m      1\u001b[0m \u001b[0;31m# check the outputs of VGG\u001b[0m\u001b[0;34m\u001b[0m\u001b[0;34m\u001b[0m\u001b[0m\n\u001b[0;32m----> 2\u001b[0;31m \u001b[0mmodel\u001b[0m \u001b[0;34m=\u001b[0m \u001b[0mVGG\u001b[0m\u001b[0;34m(\u001b[0m\u001b[0;34m)\u001b[0m\u001b[0;34m\u001b[0m\u001b[0m\n\u001b[0m\u001b[1;32m      3\u001b[0m \u001b[0;34m\u001b[0m\u001b[0m\n\u001b[1;32m      4\u001b[0m \u001b[0my\u001b[0m \u001b[0;34m=\u001b[0m \u001b[0mmodel\u001b[0m\u001b[0;34m(\u001b[0m\u001b[0mpixels\u001b[0m\u001b[0;34m)\u001b[0m\u001b[0;34m\u001b[0m\u001b[0m\n\u001b[1;32m      5\u001b[0m \u001b[0my\u001b[0m \u001b[0;34m=\u001b[0m \u001b[0mF\u001b[0m\u001b[0;34m.\u001b[0m\u001b[0msoftmax\u001b[0m\u001b[0;34m(\u001b[0m\u001b[0my\u001b[0m\u001b[0;34m)\u001b[0m\u001b[0;34m.\u001b[0m\u001b[0mdata\u001b[0m\u001b[0;34m\u001b[0m\u001b[0m\n",
      "\u001b[0;31mNameError\u001b[0m: name 'VGG' is not defined"
     ]
    }
   ],
   "source": [
    "# check the outputs of VGG\n",
    "model = VGG()\n",
    "\n",
    "y = model(pixels)\n",
    "y = F.softmax(y).data\n",
    "y.max(axis=1)"
   ]
  },
  {
   "cell_type": "code",
   "execution_count": 109,
   "metadata": {
    "collapsed": true
   },
   "outputs": [],
   "source": [
    "# disable to learn weght in baseVGG\n",
    "model = VGG()\n",
    "optimizer = chainer.optimizers.MomentumSGD()\n",
    "optimizer.setup(model)\n",
    "model.base.disable_update()"
   ]
  },
  {
   "cell_type": "code",
   "execution_count": 119,
   "metadata": {},
   "outputs": [
    {
     "data": {
      "text/plain": [
       "array([ 0.72818965], dtype=float32)"
      ]
     },
     "execution_count": 119,
     "metadata": {},
     "output_type": "execute_result"
    }
   ],
   "source": [
    "y = model(pixels)\n",
    "y = F.softmax(y).data\n",
    "y.max(axis=1)"
   ]
  },
  {
   "cell_type": "code",
   "execution_count": 3,
   "metadata": {
    "collapsed": true
   },
   "outputs": [],
   "source": [
    "n = [64, 96]"
   ]
  },
  {
   "cell_type": "markdown",
   "metadata": {},
   "source": [
    "# keras code from here"
   ]
  },
  {
   "cell_type": "code",
   "execution_count": 1,
   "metadata": {},
   "outputs": [
    {
     "name": "stderr",
     "output_type": "stream",
     "text": [
      "Using TensorFlow backend.\n"
     ]
    }
   ],
   "source": [
    "from keras.models import Sequential, Model\n",
    "from keras.layers import Input, Dense, TimeDistributed, merge, Lambda\n",
    "from keras.layers.core import *\n",
    "from keras.layers.convolutional import *\n",
    "from keras.layers.recurrent import *\n",
    "\n",
    "import tensorflow as tf\n",
    "from keras import backend as K\n",
    "\n",
    "from keras.activations import relu\n",
    "from functools import partial\n",
    "clipped_relu = partial(relu, max_value=5)"
   ]
  },
  {
   "cell_type": "code",
   "execution_count": 2,
   "metadata": {},
   "outputs": [],
   "source": [
    "def max_filter(x):\n",
    "    # Max over the best filter score (like ICRA paper)\n",
    "    max_values = K.max(x, 2, keepdims=True)\n",
    "    max_flag = tf.greater_equal(x, max_values)\n",
    "    out = x * tf.cast(max_flag, tf.float32)\n",
    "    return out\n",
    "\n",
    "def channel_normalization(x):\n",
    "    # Normalize by the highest activation\n",
    "    max_values = K.max(K.abs(x), 2, keepdims=True)+1e-5\n",
    "    out = x / max_values\n",
    "    return out\n",
    "\n",
    "def WaveNet_activation(x):\n",
    "    tanh_out = Activation('tanh')(x)\n",
    "    sigm_out = Activation('sigmoid')(x)  \n",
    "    return Merge(mode='mul')([tanh_out, sigm_out])"
   ]
  },
  {
   "cell_type": "code",
   "execution_count": 3,
   "metadata": {},
   "outputs": [],
   "source": [
    "# How many latent states/nodes per layer of network\n",
    "# Only applicable to the TCNs. The ECCV and LSTM  model suses the first element from this list.\n",
    "n_nodes = [64, 96] # \n",
    "nb_epoch = 200 # epoch数\n",
    "video_rate = 3 #\n",
    "conv = 20 # convolution のノード数\n",
    "\n",
    "# n_classes = data.n_classes\n",
    "# train_lengths = [x.shape[0] for x in X_train]\n",
    "# test_lengths = [x.shape[0] for x in X_test]\n",
    "# n_train = len(X_train)\n",
    "# n_test = len(X_test)\n",
    "\n",
    "# n_feat = data.n_features\n",
    "# print(\"# Feat:\", n_feat)\n",
    "\n",
    "model_type = \"ED-TCN\""
   ]
  },
  {
   "cell_type": "code",
   "execution_count": 24,
   "metadata": {},
   "outputs": [
    {
     "data": {
      "text/plain": [
       "(10.0, 10)"
      ]
     },
     "execution_count": 24,
     "metadata": {},
     "output_type": "execute_result"
    }
   ],
   "source": [
    "20/2, 20//2"
   ]
  },
  {
   "cell_type": "code",
   "execution_count": 4,
   "metadata": {},
   "outputs": [],
   "source": [
    "def ED_TCN(n_nodes, conv_len, n_classes, n_feat, max_len, \n",
    "            loss='categorical_crossentropy', causal=False, \n",
    "            optimizer=\"rmsprop\", activation='norm_relu',\n",
    "            return_param_str=False): # n_feat次元のmax_lenベクトル\n",
    "    n_layers = len(n_nodes)\n",
    "\n",
    "    inputs = Input(shape=(max_len,n_feat)) # 期待される入力ベクトルが(max_len, n_feat)のバッチ。バッチサイズは含まれない\n",
    "    model = inputs\n",
    "\n",
    "    # ---- Encoder ----\n",
    "    for i in range(n_layers):\n",
    "        # Pad beginning of sequence to prevent usage of future data\n",
    "        if causal: model = ZeroPadding1D(padding=(conv_len//2, 0))(model) # 始めと終わりにそれぞれいくつのゼロを加えるか。(left_pad, right_pad) \n",
    "        model = Convolution1D(n_nodes[i], kernel_size=conv_len, border_mode='same')(model) # 出力(max_len,64), kernel_size=conv, \n",
    "        if causal: model = Cropping1D(padding=(0, conv_len//2))(model) # (10/2, 10//2)=(5.0, 5)\n",
    "\n",
    "        model = SpatialDropout1D(0.3)(model)\n",
    "        \n",
    "        if activation=='norm_relu': \n",
    "            model = Activation('relu')(model)            \n",
    "            model = Lambda(channel_normalization, name=\"encoder_norm_{}\".format(i))(model)\n",
    "        elif activation=='wavenet': \n",
    "            model = WaveNet_activation(model) \n",
    "        else:\n",
    "            model = Activation(activation)(model)            \n",
    "        \n",
    "        model = MaxPooling1D(pool_size=2)(model)\n",
    "\n",
    "    # ---- Decoder ----\n",
    "    for i in range(n_layers):\n",
    "        model = UpSampling1D(2)(model) # 時間軸方向にそれぞれの時間ステップをsize=2回繰り返す\n",
    "        if causal: model = ZeroPadding1D((conv_len//2,0))(model)\n",
    "        model = Convolution1D(n_nodes[-i-1], conv_len, border_mode='same')(model)\n",
    "        if causal: model = Cropping1D((0,conv_len//2))(model)\n",
    "\n",
    "        model = SpatialDropout1D(0.3)(model)\n",
    "\n",
    "        if activation=='norm_relu': \n",
    "            model = Activation('relu')(model)\n",
    "            model = Lambda(channel_normalization, name=\"decoder_norm_{}\".format(i))(model)\n",
    "        elif activation=='wavenet': \n",
    "            model = WaveNet_activation(model) \n",
    "        else:\n",
    "            model = Activation(activation)(model)\n",
    "\n",
    "    # Output FC layer\n",
    "    model = TimeDistributed(Dense(n_classes, activation=\"softmax\"))(model) # units=出力次元数、 タイムスタンプのレイヤーそれぞれにDenseを適用するため\n",
    "    \n",
    "    model = Model(input=inputs, output=model)\n",
    "    model.compile(loss=loss, optimizer=optimizer, sample_weight_mode=\"temporal\", metrics=['accuracy']) # 訓練過程の設定, \"temporal\"=時間ごとのサンプルの重み付け（2次元の重み）を行う\n",
    "\n",
    "    if return_param_str:\n",
    "        param_str = \"ED-TCN_C{}_L{}\".format(conv_len, n_layers)\n",
    "        if causal:\n",
    "            param_str += \"_causal\"\n",
    "    \n",
    "        return model, param_str\n",
    "    else:\n",
    "        return model"
   ]
  },
  {
   "cell_type": "code",
   "execution_count": 5,
   "metadata": {},
   "outputs": [
    {
     "ename": "TypeError",
     "evalue": "ED_TCN() missing 5 required positional arguments: 'n_nodes', 'conv_len', 'n_classes', 'n_feat', and 'max_len'",
     "output_type": "error",
     "traceback": [
      "\u001b[0;31m---------------------------------------------------------------------------\u001b[0m",
      "\u001b[0;31mTypeError\u001b[0m                                 Traceback (most recent call last)",
      "\u001b[0;32m<ipython-input-5-366da3b5ca44>\u001b[0m in \u001b[0;36m<module>\u001b[0;34m()\u001b[0m\n\u001b[0;32m----> 1\u001b[0;31m \u001b[0mmodel\u001b[0m \u001b[0;34m=\u001b[0m \u001b[0mED_TCN\u001b[0m\u001b[0;34m(\u001b[0m\u001b[0;34m)\u001b[0m\u001b[0;34m\u001b[0m\u001b[0m\n\u001b[0m\u001b[1;32m      2\u001b[0m \u001b[0mmodel\u001b[0m\u001b[0;34m.\u001b[0m\u001b[0mSummary\u001b[0m\u001b[0;34m\u001b[0m\u001b[0m\n",
      "\u001b[0;31mTypeError\u001b[0m: ED_TCN() missing 5 required positional arguments: 'n_nodes', 'conv_len', 'n_classes', 'n_feat', and 'max_len'"
     ]
    }
   ],
   "source": [
    "model = ED_TCN(activation=causal=conv_len=loss=max_len=n_classes=n_feat=n_nodes=optimizer=return_param_str=)\n",
    "model.Summary"
   ]
  },
  {
   "cell_type": "code",
   "execution_count": 11,
   "metadata": {},
   "outputs": [
    {
     "name": "stderr",
     "output_type": "stream",
     "text": [
      "/Users/daichi/.pyenv/versions/anaconda3-5.0.0/lib/python3.6/site-packages/ipykernel_launcher.py:14: UserWarning: Update your `Conv1D` call to the Keras 2 API: `Conv1D(64, 20, padding=\"same\")`\n",
      "  \n",
      "/Users/daichi/.pyenv/versions/anaconda3-5.0.0/lib/python3.6/site-packages/ipykernel_launcher.py:14: UserWarning: Update your `Conv1D` call to the Keras 2 API: `Conv1D(96, 20, padding=\"same\")`\n",
      "  \n",
      "/Users/daichi/.pyenv/versions/anaconda3-5.0.0/lib/python3.6/site-packages/ipykernel_launcher.py:33: UserWarning: Update your `Conv1D` call to the Keras 2 API: `Conv1D(96, 20, padding=\"same\")`\n",
      "/Users/daichi/.pyenv/versions/anaconda3-5.0.0/lib/python3.6/site-packages/ipykernel_launcher.py:33: UserWarning: Update your `Conv1D` call to the Keras 2 API: `Conv1D(64, 20, padding=\"same\")`\n",
      "/Users/daichi/.pyenv/versions/anaconda3-5.0.0/lib/python3.6/site-packages/ipykernel_launcher.py:49: UserWarning: Update your `Model` call to the Keras 2 API: `Model(inputs=Tensor(\"in..., outputs=Tensor(\"ti...)`\n"
     ]
    }
   ],
   "source": [
    "n_classes = 12\n",
    "n_feat = 2\n",
    "max_len = 20\n",
    "causal = False\n",
    "\n",
    "model, param_str = ED_TCN(n_nodes, conv, n_classes, n_feat, max_len, causal=causal, activation='norm_relu', return_param_str=True)     "
   ]
  },
  {
   "cell_type": "code",
   "execution_count": 16,
   "metadata": {},
   "outputs": [
    {
     "name": "stdout",
     "output_type": "stream",
     "text": [
      "_________________________________________________________________\n",
      "Layer (type)                 Output Shape              Param #   \n",
      "=================================================================\n",
      "input_1 (InputLayer)         (None, 20, 2)             0         \n",
      "_________________________________________________________________\n",
      "conv1d_1 (Conv1D)            (None, 20, 64)            2624      \n",
      "_________________________________________________________________\n",
      "spatial_dropout1d_1 (Spatial (None, 20, 64)            0         \n",
      "_________________________________________________________________\n",
      "activation_1 (Activation)    (None, 20, 64)            0         \n",
      "_________________________________________________________________\n",
      "encoder_norm_0 (Lambda)      (None, 20, 64)            0         \n",
      "_________________________________________________________________\n",
      "max_pooling1d_1 (MaxPooling1 (None, 10, 64)            0         \n",
      "_________________________________________________________________\n",
      "conv1d_2 (Conv1D)            (None, 10, 96)            122976    \n",
      "_________________________________________________________________\n",
      "spatial_dropout1d_2 (Spatial (None, 10, 96)            0         \n",
      "_________________________________________________________________\n",
      "activation_2 (Activation)    (None, 10, 96)            0         \n",
      "_________________________________________________________________\n",
      "encoder_norm_1 (Lambda)      (None, 10, 96)            0         \n",
      "_________________________________________________________________\n",
      "max_pooling1d_2 (MaxPooling1 (None, 5, 96)             0         \n",
      "_________________________________________________________________\n",
      "up_sampling1d_1 (UpSampling1 (None, 10, 96)            0         \n",
      "_________________________________________________________________\n",
      "conv1d_3 (Conv1D)            (None, 10, 96)            184416    \n",
      "_________________________________________________________________\n",
      "spatial_dropout1d_3 (Spatial (None, 10, 96)            0         \n",
      "_________________________________________________________________\n",
      "activation_3 (Activation)    (None, 10, 96)            0         \n",
      "_________________________________________________________________\n",
      "decoder_norm_0 (Lambda)      (None, 10, 96)            0         \n",
      "_________________________________________________________________\n",
      "up_sampling1d_2 (UpSampling1 (None, 20, 96)            0         \n",
      "_________________________________________________________________\n",
      "conv1d_4 (Conv1D)            (None, 20, 64)            122944    \n",
      "_________________________________________________________________\n",
      "spatial_dropout1d_4 (Spatial (None, 20, 64)            0         \n",
      "_________________________________________________________________\n",
      "activation_4 (Activation)    (None, 20, 64)            0         \n",
      "_________________________________________________________________\n",
      "decoder_norm_1 (Lambda)      (None, 20, 64)            0         \n",
      "_________________________________________________________________\n",
      "time_distributed_1 (TimeDist (None, 20, 12)            780       \n",
      "=================================================================\n",
      "Total params: 433,740\n",
      "Trainable params: 433,740\n",
      "Non-trainable params: 0\n",
      "_________________________________________________________________\n"
     ]
    }
   ],
   "source": [
    "from keras.models import model_from_json\n",
    "model.summary()"
   ]
  },
  {
   "cell_type": "code",
   "execution_count": 17,
   "metadata": {},
   "outputs": [
    {
     "data": {
      "text/plain": [
       "'{\"class_name\": \"Model\", \"config\": {\"name\": \"model_1\", \"layers\": [{\"name\": \"input_1\", \"class_name\": \"InputLayer\", \"config\": {\"batch_input_shape\": [null, 20, 2], \"dtype\": \"float32\", \"sparse\": false, \"name\": \"input_1\"}, \"inbound_nodes\": []}, {\"name\": \"conv1d_1\", \"class_name\": \"Conv1D\", \"config\": {\"name\": \"conv1d_1\", \"trainable\": true, \"filters\": 64, \"kernel_size\": [20], \"strides\": [1], \"padding\": \"same\", \"dilation_rate\": [1], \"activation\": \"linear\", \"use_bias\": true, \"kernel_initializer\": {\"class_name\": \"VarianceScaling\", \"config\": {\"scale\": 1.0, \"mode\": \"fan_avg\", \"distribution\": \"uniform\", \"seed\": null}}, \"bias_initializer\": {\"class_name\": \"Zeros\", \"config\": {}}, \"kernel_regularizer\": null, \"bias_regularizer\": null, \"activity_regularizer\": null, \"kernel_constraint\": null, \"bias_constraint\": null}, \"inbound_nodes\": [[[\"input_1\", 0, 0, {}]]]}, {\"name\": \"spatial_dropout1d_1\", \"class_name\": \"SpatialDropout1D\", \"config\": {\"name\": \"spatial_dropout1d_1\", \"trainable\": true, \"rate\": 0.3, \"noise_shape\": null, \"seed\": null}, \"inbound_nodes\": [[[\"conv1d_1\", 0, 0, {}]]]}, {\"name\": \"activation_1\", \"class_name\": \"Activation\", \"config\": {\"name\": \"activation_1\", \"trainable\": true, \"activation\": \"relu\"}, \"inbound_nodes\": [[[\"spatial_dropout1d_1\", 0, 0, {}]]]}, {\"name\": \"encoder_norm_0\", \"class_name\": \"Lambda\", \"config\": {\"name\": \"encoder_norm_0\", \"trainable\": true, \"function\": [\"4wEAAAAAAAAAAwAAAAUAAABDAAAAcyYAAAB0AGoBdABqAnwAgwFkAWQCZAONA2QEFwB9AXwAfAEb\\\\nAH0CfAJTACkFTukCAAAAVCkB2ghrZWVwZGltc2fxaOOItfjkPikD2gFL2gNtYXjaA2FicykD2gF4\\\\n2gptYXhfdmFsdWVz2gNvdXSpAHIJAAAA+h48aXB5dGhvbi1pbnB1dC0yLWVjNzdhZTVmNzQ2Yz7a\\\\nFWNoYW5uZWxfbm9ybWFsaXphdGlvbggAAABzBgAAAAACGgEIAQ==\\\\n\", null, null], \"function_type\": \"lambda\", \"output_shape\": null, \"output_shape_type\": \"raw\", \"arguments\": {}}, \"inbound_nodes\": [[[\"activation_1\", 0, 0, {}]]]}, {\"name\": \"max_pooling1d_1\", \"class_name\": \"MaxPooling1D\", \"config\": {\"name\": \"max_pooling1d_1\", \"trainable\": true, \"strides\": [2], \"pool_size\": [2], \"padding\": \"valid\"}, \"inbound_nodes\": [[[\"encoder_norm_0\", 0, 0, {}]]]}, {\"name\": \"conv1d_2\", \"class_name\": \"Conv1D\", \"config\": {\"name\": \"conv1d_2\", \"trainable\": true, \"filters\": 96, \"kernel_size\": [20], \"strides\": [1], \"padding\": \"same\", \"dilation_rate\": [1], \"activation\": \"linear\", \"use_bias\": true, \"kernel_initializer\": {\"class_name\": \"VarianceScaling\", \"config\": {\"scale\": 1.0, \"mode\": \"fan_avg\", \"distribution\": \"uniform\", \"seed\": null}}, \"bias_initializer\": {\"class_name\": \"Zeros\", \"config\": {}}, \"kernel_regularizer\": null, \"bias_regularizer\": null, \"activity_regularizer\": null, \"kernel_constraint\": null, \"bias_constraint\": null}, \"inbound_nodes\": [[[\"max_pooling1d_1\", 0, 0, {}]]]}, {\"name\": \"spatial_dropout1d_2\", \"class_name\": \"SpatialDropout1D\", \"config\": {\"name\": \"spatial_dropout1d_2\", \"trainable\": true, \"rate\": 0.3, \"noise_shape\": null, \"seed\": null}, \"inbound_nodes\": [[[\"conv1d_2\", 0, 0, {}]]]}, {\"name\": \"activation_2\", \"class_name\": \"Activation\", \"config\": {\"name\": \"activation_2\", \"trainable\": true, \"activation\": \"relu\"}, \"inbound_nodes\": [[[\"spatial_dropout1d_2\", 0, 0, {}]]]}, {\"name\": \"encoder_norm_1\", \"class_name\": \"Lambda\", \"config\": {\"name\": \"encoder_norm_1\", \"trainable\": true, \"function\": [\"4wEAAAAAAAAAAwAAAAUAAABDAAAAcyYAAAB0AGoBdABqAnwAgwFkAWQCZAONA2QEFwB9AXwAfAEb\\\\nAH0CfAJTACkFTukCAAAAVCkB2ghrZWVwZGltc2fxaOOItfjkPikD2gFL2gNtYXjaA2FicykD2gF4\\\\n2gptYXhfdmFsdWVz2gNvdXSpAHIJAAAA+h48aXB5dGhvbi1pbnB1dC0yLWVjNzdhZTVmNzQ2Yz7a\\\\nFWNoYW5uZWxfbm9ybWFsaXphdGlvbggAAABzBgAAAAACGgEIAQ==\\\\n\", null, null], \"function_type\": \"lambda\", \"output_shape\": null, \"output_shape_type\": \"raw\", \"arguments\": {}}, \"inbound_nodes\": [[[\"activation_2\", 0, 0, {}]]]}, {\"name\": \"max_pooling1d_2\", \"class_name\": \"MaxPooling1D\", \"config\": {\"name\": \"max_pooling1d_2\", \"trainable\": true, \"strides\": [2], \"pool_size\": [2], \"padding\": \"valid\"}, \"inbound_nodes\": [[[\"encoder_norm_1\", 0, 0, {}]]]}, {\"name\": \"up_sampling1d_1\", \"class_name\": \"UpSampling1D\", \"config\": {\"name\": \"up_sampling1d_1\", \"trainable\": true, \"size\": 2}, \"inbound_nodes\": [[[\"max_pooling1d_2\", 0, 0, {}]]]}, {\"name\": \"conv1d_3\", \"class_name\": \"Conv1D\", \"config\": {\"name\": \"conv1d_3\", \"trainable\": true, \"filters\": 96, \"kernel_size\": [20], \"strides\": [1], \"padding\": \"same\", \"dilation_rate\": [1], \"activation\": \"linear\", \"use_bias\": true, \"kernel_initializer\": {\"class_name\": \"VarianceScaling\", \"config\": {\"scale\": 1.0, \"mode\": \"fan_avg\", \"distribution\": \"uniform\", \"seed\": null}}, \"bias_initializer\": {\"class_name\": \"Zeros\", \"config\": {}}, \"kernel_regularizer\": null, \"bias_regularizer\": null, \"activity_regularizer\": null, \"kernel_constraint\": null, \"bias_constraint\": null}, \"inbound_nodes\": [[[\"up_sampling1d_1\", 0, 0, {}]]]}, {\"name\": \"spatial_dropout1d_3\", \"class_name\": \"SpatialDropout1D\", \"config\": {\"name\": \"spatial_dropout1d_3\", \"trainable\": true, \"rate\": 0.3, \"noise_shape\": null, \"seed\": null}, \"inbound_nodes\": [[[\"conv1d_3\", 0, 0, {}]]]}, {\"name\": \"activation_3\", \"class_name\": \"Activation\", \"config\": {\"name\": \"activation_3\", \"trainable\": true, \"activation\": \"relu\"}, \"inbound_nodes\": [[[\"spatial_dropout1d_3\", 0, 0, {}]]]}, {\"name\": \"decoder_norm_0\", \"class_name\": \"Lambda\", \"config\": {\"name\": \"decoder_norm_0\", \"trainable\": true, \"function\": [\"4wEAAAAAAAAAAwAAAAUAAABDAAAAcyYAAAB0AGoBdABqAnwAgwFkAWQCZAONA2QEFwB9AXwAfAEb\\\\nAH0CfAJTACkFTukCAAAAVCkB2ghrZWVwZGltc2fxaOOItfjkPikD2gFL2gNtYXjaA2FicykD2gF4\\\\n2gptYXhfdmFsdWVz2gNvdXSpAHIJAAAA+h48aXB5dGhvbi1pbnB1dC0yLWVjNzdhZTVmNzQ2Yz7a\\\\nFWNoYW5uZWxfbm9ybWFsaXphdGlvbggAAABzBgAAAAACGgEIAQ==\\\\n\", null, null], \"function_type\": \"lambda\", \"output_shape\": null, \"output_shape_type\": \"raw\", \"arguments\": {}}, \"inbound_nodes\": [[[\"activation_3\", 0, 0, {}]]]}, {\"name\": \"up_sampling1d_2\", \"class_name\": \"UpSampling1D\", \"config\": {\"name\": \"up_sampling1d_2\", \"trainable\": true, \"size\": 2}, \"inbound_nodes\": [[[\"decoder_norm_0\", 0, 0, {}]]]}, {\"name\": \"conv1d_4\", \"class_name\": \"Conv1D\", \"config\": {\"name\": \"conv1d_4\", \"trainable\": true, \"filters\": 64, \"kernel_size\": [20], \"strides\": [1], \"padding\": \"same\", \"dilation_rate\": [1], \"activation\": \"linear\", \"use_bias\": true, \"kernel_initializer\": {\"class_name\": \"VarianceScaling\", \"config\": {\"scale\": 1.0, \"mode\": \"fan_avg\", \"distribution\": \"uniform\", \"seed\": null}}, \"bias_initializer\": {\"class_name\": \"Zeros\", \"config\": {}}, \"kernel_regularizer\": null, \"bias_regularizer\": null, \"activity_regularizer\": null, \"kernel_constraint\": null, \"bias_constraint\": null}, \"inbound_nodes\": [[[\"up_sampling1d_2\", 0, 0, {}]]]}, {\"name\": \"spatial_dropout1d_4\", \"class_name\": \"SpatialDropout1D\", \"config\": {\"name\": \"spatial_dropout1d_4\", \"trainable\": true, \"rate\": 0.3, \"noise_shape\": null, \"seed\": null}, \"inbound_nodes\": [[[\"conv1d_4\", 0, 0, {}]]]}, {\"name\": \"activation_4\", \"class_name\": \"Activation\", \"config\": {\"name\": \"activation_4\", \"trainable\": true, \"activation\": \"relu\"}, \"inbound_nodes\": [[[\"spatial_dropout1d_4\", 0, 0, {}]]]}, {\"name\": \"decoder_norm_1\", \"class_name\": \"Lambda\", \"config\": {\"name\": \"decoder_norm_1\", \"trainable\": true, \"function\": [\"4wEAAAAAAAAAAwAAAAUAAABDAAAAcyYAAAB0AGoBdABqAnwAgwFkAWQCZAONA2QEFwB9AXwAfAEb\\\\nAH0CfAJTACkFTukCAAAAVCkB2ghrZWVwZGltc2fxaOOItfjkPikD2gFL2gNtYXjaA2FicykD2gF4\\\\n2gptYXhfdmFsdWVz2gNvdXSpAHIJAAAA+h48aXB5dGhvbi1pbnB1dC0yLWVjNzdhZTVmNzQ2Yz7a\\\\nFWNoYW5uZWxfbm9ybWFsaXphdGlvbggAAABzBgAAAAACGgEIAQ==\\\\n\", null, null], \"function_type\": \"lambda\", \"output_shape\": null, \"output_shape_type\": \"raw\", \"arguments\": {}}, \"inbound_nodes\": [[[\"activation_4\", 0, 0, {}]]]}, {\"name\": \"time_distributed_1\", \"class_name\": \"TimeDistributed\", \"config\": {\"name\": \"time_distributed_1\", \"trainable\": true, \"layer\": {\"class_name\": \"Dense\", \"config\": {\"name\": \"dense_1\", \"trainable\": true, \"units\": 12, \"activation\": \"softmax\", \"use_bias\": true, \"kernel_initializer\": {\"class_name\": \"VarianceScaling\", \"config\": {\"scale\": 1.0, \"mode\": \"fan_avg\", \"distribution\": \"uniform\", \"seed\": null}}, \"bias_initializer\": {\"class_name\": \"Zeros\", \"config\": {}}, \"kernel_regularizer\": null, \"bias_regularizer\": null, \"activity_regularizer\": null, \"kernel_constraint\": null, \"bias_constraint\": null}}}, \"inbound_nodes\": [[[\"decoder_norm_1\", 0, 0, {}]]]}], \"input_layers\": [[\"input_1\", 0, 0]], \"output_layers\": [[\"time_distributed_1\", 0, 0]]}, \"keras_version\": \"2.1.5\", \"backend\": \"tensorflow\"}'"
      ]
     },
     "execution_count": 17,
     "metadata": {},
     "output_type": "execute_result"
    }
   ],
   "source": [
    "json_string = model.to_json()\n",
    "json_string"
   ]
  },
  {
   "cell_type": "code",
   "execution_count": null,
   "metadata": {},
   "outputs": [],
   "source": []
  }
 ],
 "metadata": {
  "kernelspec": {
   "display_name": "Python 3",
   "language": "python",
   "name": "python3"
  },
  "language_info": {
   "codemirror_mode": {
    "name": "ipython",
    "version": 3
   },
   "file_extension": ".py",
   "mimetype": "text/x-python",
   "name": "python",
   "nbconvert_exporter": "python",
   "pygments_lexer": "ipython3",
   "version": "3.6.2"
  }
 },
 "nbformat": 4,
 "nbformat_minor": 2
}
