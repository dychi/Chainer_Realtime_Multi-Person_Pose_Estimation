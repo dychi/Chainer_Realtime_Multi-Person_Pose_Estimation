{
 "cells": [
  {
   "cell_type": "code",
   "execution_count": 1,
   "metadata": {
    "collapsed": true
   },
   "outputs": [],
   "source": [
    "import cv2\n",
    "import os\n",
    "import sys\n",
    "import numpy as np\n",
    "import pandas as pd\n",
    "from PIL import Image\n",
    "import argparse\n",
    "import matplotlib.pyplot as plt\n",
    "%matplotlib inline\n",
    "\n",
    "sys.path.append('../')\n",
    "from original.entity import params, JointType\n",
    "from badminton_pose_detector import PoseDetector, draw_person_pose"
   ]
  },
  {
   "cell_type": "code",
   "execution_count": 2,
   "metadata": {
    "collapsed": true
   },
   "outputs": [],
   "source": [
    "def select_region(image):\n",
    "    if len(image.shape) == 3:\n",
    "        high, wid, ch = image.shape\n",
    "    else:\n",
    "        high, wid = image.shape\n",
    "\n",
    "    # make area\n",
    "    bottom_left  = [wid*0.1, high*1]\n",
    "    top_left     = [wid*0.30, high*0.3]\n",
    "    bottom_right = [wid*0.9, high*1]\n",
    "    top_right    = [wid*0.7, high*0.3]\n",
    "    # polygons \n",
    "    poly = np.array([[bottom_left, top_left, top_right, bottom_right]], dtype=np.int32)\n",
    "    mask = np.zeros_like(image)\n",
    "    if len(mask.shape)==2:\n",
    "        cv2.fillPoly(mask, poly, 255)\n",
    "    else:\n",
    "        # in case of channel=3\n",
    "        cv2.fillPoly(mask, poly, (255,)*mask.shape[2])\n",
    "\n",
    "    return cv2.bitwise_and(image, mask), mask"
   ]
  },
  {
   "cell_type": "code",
   "execution_count": 3,
   "metadata": {},
   "outputs": [
    {
     "name": "stdout",
     "output_type": "stream",
     "text": [
      "Loading the model...\n",
      "load model done!\n"
     ]
    }
   ],
   "source": [
    "#load model\n",
    "pose_detector = PoseDetector(\"posenet\", \"../models/coco_posenet.npz\", device=0, precise=True)\n",
    "print(\"load model done!\")"
   ]
  },
  {
   "cell_type": "code",
   "execution_count": null,
   "metadata": {},
   "outputs": [],
   "source": []
  },
  {
   "cell_type": "code",
   "execution_count": null,
   "metadata": {},
   "outputs": [],
   "source": []
  },
  {
   "cell_type": "code",
   "execution_count": 4,
   "metadata": {},
   "outputs": [],
   "source": [
    "def compute_limbs_length(joints): # limbs_len is something wrong\n",
    "    limbs = []\n",
    "    limbs_len = np.zeros(len(params[\"limbs_point\"])) # 19 points\n",
    "    for i, joint_indices in enumerate(params[\"limbs_point\"]):\n",
    "        if joints[joint_indices[0]] is not None and joints[joint_indices[1]] is not None: # 鼻or首があるか確認する\n",
    "            limbs.append([joints[joint_indices[0]], joints[joint_indices[1]]])\n",
    "            limbs_len[i] = np.linalg.norm(joints[joint_indices[1]][:-1] - joints[joint_indices[0]][:-1])\n",
    "        else:\n",
    "            limbs.append(None)\n",
    "\n",
    "    return limbs_len, limbs\n",
    "\n",
    "def compute_unit_length(limbs_len): # 鼻首の長さを優先しない\n",
    "    unit_length = 0\n",
    "    base_limbs_len = limbs_len[[3, 0, 13, 9]] # (首左腰、首右腰、肩左耳、肩右耳)の長さの比率(このどれかが存在すればこれを優先的に単位長さの計算する)\n",
    "    non_zero_limbs_len = base_limbs_len > 0\n",
    "    if len(np.nonzero(non_zero_limbs_len)[0]) > 0:\n",
    "        limbs_len_ratio = np.array([2.2, 2.2, 0.85, 0.85])\n",
    "        unit_length = np.sum(base_limbs_len[non_zero_limbs_len] / limbs_len_ratio[non_zero_limbs_len]) / len(np.nonzero(non_zero_limbs_len)[0])\n",
    "    else:\n",
    "        limbs_len_ratio = np.array([2.2, 1.7, 1.7, 2.2, 1.7, 1.7, 0.6, 0.93, 0.65, 0.85, 0.6, 0.93, 0.65, 0.85, 1, 0.2, 0.2, 0.25, 0.25]) # 鼻首を1としている\n",
    "        non_zero_limbs_len = limbs_len > 0\n",
    "        unit_length = np.sum(limbs_len[non_zero_limbs_len] / limbs_len_ratio[non_zero_limbs_len]) / len(np.nonzero(non_zero_limbs_len)[0])\n",
    "\n",
    "    return unit_length\n",
    "\n",
    "def get_unit_length(person_pose):\n",
    "    limbs_length, limbs = compute_limbs_length(person_pose)\n",
    "    unit_length = compute_unit_length(limbs_length)\n",
    "\n",
    "    return unit_length, limbs_length\n"
   ]
  },
  {
   "cell_type": "code",
   "execution_count": 5,
   "metadata": {},
   "outputs": [],
   "source": [
    "# define crop person\n",
    "def crop_person(img, person_pose, unit_length):\n",
    "    top_joint_priority = [4, 5, 6, 12, 16, 7, 13, 17, 8, 10, 14, 9, 11, 15, 2, 3, 0, 1, sys.maxsize]\n",
    "    bottom_joint_priority = [9, 6, 7, 14, 16, 8, 15, 17, 4, 2, 0, 5, 3, 1, 10, 11, 12, 13, sys.maxsize]\n",
    "\n",
    "    top_joint_index = len(top_joint_priority) - 1\n",
    "    bottom_joint_index = len(bottom_joint_priority) - 1\n",
    "    left_joint_index = 0\n",
    "    right_joint_index = 0\n",
    "    top_pos = sys.maxsize\n",
    "    bottom_pos = 0\n",
    "    left_pos = sys.maxsize\n",
    "    right_pos = 0\n",
    "\n",
    "    for i, joint in enumerate(person_pose):\n",
    "        if joint[2] > 0:\n",
    "            if top_joint_priority[i] < top_joint_priority[top_joint_index]:\n",
    "                top_joint_index = i\n",
    "            elif bottom_joint_priority[i] < bottom_joint_priority[bottom_joint_index]:\n",
    "                bottom_joint_index = i\n",
    "            if joint[1] < top_pos:\n",
    "                top_pos = joint[1]\n",
    "            elif joint[1] > bottom_pos:\n",
    "                bottom_pos = joint[1]\n",
    "\n",
    "            if joint[0] < left_pos:\n",
    "                left_pos = joint[0]\n",
    "                left_joint_index = i\n",
    "            elif joint[0] > right_pos:\n",
    "                right_pos = joint[0]\n",
    "                right_joint_index = i\n",
    "\n",
    "    top_padding_ratio = [0.9, 1.9, 1.9, 2.9, 3.7, 1.9, 2.9, 3.7, 4.0, 5.5, 7.0, 4.0, 5.5, 7.0, 0.7, 0.8, 0.7, 0.8]\n",
    "    bottom_padding_ratio = [6.9, 5.9, 5.9, 4.9, 4.1, 5.9, 4.9, 4.1, 3.8, 2.3, 0.8, 3.8, 2.3, 0.8, 7.1, 7.0, 7.1, 7.0]\n",
    "\n",
    "    left = (left_pos - 0.3 * unit_length).astype(int)\n",
    "    right = (right_pos + 0.3 * unit_length).astype(int)\n",
    "    top = (top_pos - top_padding_ratio[top_joint_index] * unit_length).astype(int)\n",
    "    bottom = (bottom_pos + bottom_padding_ratio[bottom_joint_index] * unit_length).astype(int)\n",
    "    bbox = (left, top, right, bottom)\n",
    "\n",
    "    cropped_img = pose_detector.crop_image(img, bbox)\n",
    "    return cropped_img, bbox"
   ]
  },
  {
   "cell_type": "code",
   "execution_count": null,
   "metadata": {},
   "outputs": [],
   "source": []
  },
  {
   "cell_type": "markdown",
   "metadata": {},
   "source": [
    "## Flow-based Pose Track 実装\n",
    "The flow-based inference algorithm for video human pose tracking\n",
    "![](https://i.imgur.com/pWWqoUY.png)\n",
    "前フレームのbboxを保持して比較したときに大きく変化した場合に処理を変える"
   ]
  },
  {
   "cell_type": "code",
   "execution_count": 6,
   "metadata": {},
   "outputs": [],
   "source": [
    "# 矩形内の面積を求める\n",
    "def get_bbox_area(bbox):\n",
    "    width = abs(bbox[0] - bbox[2])\n",
    "    hight = abs(bbox[1] - bbox[3])\n",
    "    area = width * hight\n",
    "    return area\n",
    "\n",
    "# 矩形内の重心座標を取得する\n",
    "def get_centerof_bbox(bbox): # should be (x,y)\n",
    "    left_top = np.array([bbox[0], bbox[1]])\n",
    "    right_bottom = np.array([bbox[2], bbox[3]])\n",
    "    center_point = (left_top + right_bottom)//2\n",
    "    return center_point\n",
    "\n",
    "# 選手の位置は合っているが矩形の大きさがおかしいので、今のフレームの重心を中心にして前フレームのbboxの大きさを切り取る\n",
    "def get_new_bbox(current_bbox_center, previous_bbox):\n",
    "    new_bbox = np.copy(previous_bbox)\n",
    "    half_width = abs(previous_bbox[0] - previous_bbox[2])/2*1.2\n",
    "    half_hight = abs(previous_bbox[1] - previous_bbox[3])/2*1.2\n",
    "    new_bbox[0] = current_bbox_center[0] - half_width\n",
    "    new_bbox[1] = current_bbox_center[1] - half_hight\n",
    "    new_bbox[2] = current_bbox_center[0] + half_width\n",
    "    new_bbox[3] = current_bbox_center[1] + half_hight\n",
    "    return new_bbox"
   ]
  },
  {
   "cell_type": "code",
   "execution_count": 26,
   "metadata": {},
   "outputs": [],
   "source": [
    "imgs_dir = pd.read_csv('../feature_images.txt', sep=',', usecols=[1,2])\n"
   ]
  },
  {
   "cell_type": "code",
   "execution_count": 40,
   "metadata": {},
   "outputs": [],
   "source": [
    "ave_pose = np.average(multi_poses[:], axis=1)\n",
    "multi_person_poses = multi_poses[np.argsort(ave_pose[:,1])[::-1]]"
   ]
  },
  {
   "cell_type": "code",
   "execution_count": 24,
   "metadata": {},
   "outputs": [
    {
     "name": "stdout",
     "output_type": "stream",
     "text": [
      "Skipped first roop\n",
      "Bbox was too big in the image: img_08335.png\n",
      "Bbox was too big in the image: img_08336.png\n",
      "Bbox was too big in the image: img_08337.png\n",
      "Bbox was too big in the image: img_08338.png\n",
      "Bbox was too big in the image: img_08339.png\n",
      "Bbox was too big in the image: img_08340.png\n",
      "Bbox was too big in the image: img_08341.png\n",
      "Bbox was too big in the image: img_08342.png\n",
      "Bbox was too big in the image: img_08343.png\n",
      "Bbox was too big in the image: img_08344.png\n",
      "Bbox was too big in the image: img_08345.png\n",
      "Bbox was too big in the image: img_08346.png\n",
      "Bbox was too big in the image: img_08347.png\n",
      "Bbox was too big in the image: img_08349.png\n",
      "Bbox was too big in the image: img_08350.png\n",
      "Bbox was too big in the image: img_08351.png\n",
      "Bbox was too big in the image: img_08352.png\n",
      "Bbox was too big in the image: img_08353.png\n",
      "Bbox was too big in the image: img_08354.png\n",
      "Bbox was too big in the image: img_08355.png\n",
      "Bbox was too big in the image: img_08356.png\n",
      "Bbox was too big in the image: img_08357.png\n",
      "Bbox was too big in the image: img_08358.png\n",
      "Bbox was too big in the image: img_08359.png\n",
      "Bbox was too big in the image: img_08360.png\n",
      "Bbox was too big in the image: img_08361.png\n",
      "Bbox was too big in the image: img_08362.png\n",
      "Bbox was too big in the image: img_08363.png\n",
      "Bbox was too big in the image: img_08364.png\n",
      "Bbox was too big in the image: img_08365.png\n",
      "Bbox was too big in the image: img_08366.png\n",
      "Bbox was too big in the image: img_08367.png\n",
      "Bbox was too big in the image: img_08368.png\n",
      "Bbox was too big in the image: img_08369.png\n",
      "Bbox was too big in the image: img_08370.png\n",
      "Bbox was too big in the image: img_08371.png\n",
      "Bbox was too big in the image: img_08372.png\n",
      "Bbox was too big in the image: img_08373.png\n",
      "Bbox was too big in the image: img_08374.png\n",
      "Bbox was too big in the image: img_08375.png\n",
      "Bbox was too big in the image: img_08376.png\n",
      "Bbox was too big in the image: img_08377.png\n",
      "Bbox was too big in the image: img_08378.png\n",
      "Bbox was too big in the image: img_08379.png\n",
      "Bbox was too big in the image: img_08380.png\n",
      "Bbox was too big in the image: img_08381.png\n",
      "Bbox was too big in the image: img_08382.png\n",
      "Bbox was too big in the image: img_08383.png\n",
      "Bbox was too big in the image: img_08384.png\n",
      "Bbox was too big in the image: img_08385.png\n",
      "Bbox was too big in the image: img_08386.png\n",
      "Bbox was too big in the image: img_08387.png\n",
      "Bbox was too big in the image: img_08388.png\n",
      "Bbox was too big in the image: img_08389.png\n",
      "Bbox was too big in the image: img_08390.png\n",
      "Bbox was too big in the image: img_08391.png\n",
      "Bbox was too big in the image: img_08392.png\n",
      "Bbox was too big in the image: img_08393.png\n",
      "Bbox was too big in the image: img_08394.png\n",
      "Detected different player: img_08107.png\n",
      "Detected different player: img_08108.png\n",
      "Detected different player: img_08109.png\n",
      "Detected different player: img_08110.png\n",
      "Detected different player: img_08111.png\n",
      "Detected different player: img_08112.png\n",
      "Detected different player: img_08113.png\n",
      "Detected different player: img_08114.png\n",
      "Detected different player: img_08115.png\n",
      "Detected different player: img_08116.png\n",
      "Detected different player: img_08117.png\n",
      "Detected different player: img_08118.png\n",
      "Detected different player: img_08119.png\n",
      "Detected different player: img_08120.png\n",
      "Detected different player: img_08121.png\n",
      "Detected different player: img_08122.png\n",
      "Detected different player: img_08123.png\n",
      "Detected different player: img_08124.png\n",
      "Detected different player: img_08125.png\n",
      "Detected different player: img_08126.png\n",
      "Detected different player: img_08127.png\n",
      "Detected different player: img_08128.png\n",
      "Detected different player: img_08129.png\n",
      "Detected different player: img_08130.png\n",
      "Detected different player: img_08131.png\n",
      "Detected different player: img_08132.png\n",
      "Detected different player: img_08133.png\n",
      "Detected different player: img_08134.png\n",
      "Detected different player: img_08135.png\n",
      "Detected different player: img_08136.png\n",
      "Detected different player: img_08137.png\n",
      "Detected different player: img_08138.png\n",
      "Detected different player: img_08139.png\n",
      "Detected different player: img_08140.png\n",
      "Detected different player: img_08141.png\n",
      "Detected different player: img_08142.png\n",
      "Detected different player: img_08143.png\n",
      "Detected different player: img_08144.png\n",
      "Detected different player: img_08145.png\n",
      "Detected different player: img_08146.png\n",
      "Detected different player: img_08147.png\n",
      "Detected different player: img_08148.png\n",
      "Detected different player: img_08149.png\n",
      "Detected different player: img_08150.png\n",
      "Detected different player: img_08151.png\n",
      "Detected different player: img_08152.png\n",
      "Bbox was too big in the image: img_08556.png\n",
      "Bbox was too big in the image: img_08557.png\n",
      "Bbox was too big in the image: img_08558.png\n",
      "Bbox was too big in the image: img_08559.png\n",
      "Bbox was too big in the image: img_08560.png\n",
      "Bbox was too big in the image: img_08563.png\n",
      "Bbox was too big in the image: img_08564.png\n",
      "Bbox was too big in the image: img_08565.png\n",
      "Bbox was too big in the image: img_08632.png\n",
      "Bbox was too big in the image: img_08636.png\n",
      "Bbox was too big in the image: img_08637.png\n",
      "Bbox was too big in the image: img_08648.png\n",
      "Bbox was too big in the image: img_08649.png\n",
      "Detected different player: img_08247.png\n",
      "Detected different player: img_08248.png\n",
      "Detected different player: img_08249.png\n",
      "Detected different player: img_08250.png\n",
      "Detected different player: img_08251.png\n",
      "Detected different player: img_08252.png\n",
      "Detected different player: img_08253.png\n",
      "Detected different player: img_08254.png\n",
      "Detected different player: img_08255.png\n",
      "Detected different player: img_08256.png\n",
      "Detected different player: img_08257.png\n",
      "Detected different player: img_08258.png\n",
      "Detected different player: img_08259.png\n",
      "Detected different player: img_08260.png\n",
      "Detected different player: img_08261.png\n",
      "Detected different player: img_08262.png\n",
      "Detected different player: img_08263.png\n",
      "Detected different player: img_08264.png\n",
      "Detected different player: img_08265.png\n",
      "Detected different player: img_08266.png\n",
      "Detected different player: img_08267.png\n",
      "Detected different player: img_08268.png\n",
      "Detected different player: img_08269.png\n",
      "Detected different player: img_08270.png\n",
      "Detected different player: img_08271.png\n",
      "Detected different player: img_08272.png\n",
      "Detected different player: img_08273.png\n",
      "Detected different player: img_08274.png\n",
      "Detected different player: img_08275.png\n",
      "Detected different player: img_08276.png\n"
     ]
    },
    {
     "ename": "ValueError",
     "evalue": "negative dimensions are not allowed",
     "output_type": "error",
     "traceback": [
      "\u001b[0;31m----------------------------------------------------------------------\u001b[0m",
      "\u001b[0;31mValueError\u001b[0m                           Traceback (most recent call last)",
      "\u001b[0;32m<ipython-input-24-c73c84c14f08>\u001b[0m in \u001b[0;36m<module>\u001b[0;34m()\u001b[0m\n\u001b[1;32m     14\u001b[0m \u001b[0;34m\u001b[0m\u001b[0m\n\u001b[1;32m     15\u001b[0m     \u001b[0munit\u001b[0m\u001b[0;34m,\u001b[0m \u001b[0mlimb_length\u001b[0m \u001b[0;34m=\u001b[0m \u001b[0mget_unit_length\u001b[0m\u001b[0;34m(\u001b[0m\u001b[0mmulti_person_poses\u001b[0m\u001b[0;34m[\u001b[0m\u001b[0mpose_num\u001b[0m\u001b[0;34m]\u001b[0m\u001b[0;34m)\u001b[0m\u001b[0;34m\u001b[0m\u001b[0m\n\u001b[0;32m---> 16\u001b[0;31m     \u001b[0mcropped_img\u001b[0m\u001b[0;34m,\u001b[0m \u001b[0mbbox\u001b[0m \u001b[0;34m=\u001b[0m \u001b[0mcrop_person\u001b[0m\u001b[0;34m(\u001b[0m\u001b[0mimg\u001b[0m\u001b[0;34m,\u001b[0m \u001b[0mmulti_person_poses\u001b[0m\u001b[0;34m[\u001b[0m\u001b[0mpose_num\u001b[0m\u001b[0;34m]\u001b[0m\u001b[0;34m,\u001b[0m \u001b[0munit\u001b[0m\u001b[0;34m)\u001b[0m\u001b[0;34m\u001b[0m\u001b[0m\n\u001b[0m\u001b[1;32m     17\u001b[0m \u001b[0;34m\u001b[0m\u001b[0m\n\u001b[1;32m     18\u001b[0m     \u001b[0;31m# 最初のループは飛ばす, initializer\u001b[0m\u001b[0;34m\u001b[0m\u001b[0;34m\u001b[0m\u001b[0m\n",
      "\u001b[0;32m<ipython-input-5-235e1727acd1>\u001b[0m in \u001b[0;36mcrop_person\u001b[0;34m(img, person_pose, unit_length)\u001b[0m\n\u001b[1;32m     40\u001b[0m     \u001b[0mbbox\u001b[0m \u001b[0;34m=\u001b[0m \u001b[0;34m(\u001b[0m\u001b[0mleft\u001b[0m\u001b[0;34m,\u001b[0m \u001b[0mtop\u001b[0m\u001b[0;34m,\u001b[0m \u001b[0mright\u001b[0m\u001b[0;34m,\u001b[0m \u001b[0mbottom\u001b[0m\u001b[0;34m)\u001b[0m\u001b[0;34m\u001b[0m\u001b[0m\n\u001b[1;32m     41\u001b[0m \u001b[0;34m\u001b[0m\u001b[0m\n\u001b[0;32m---> 42\u001b[0;31m     \u001b[0mcropped_img\u001b[0m \u001b[0;34m=\u001b[0m \u001b[0mpose_detector\u001b[0m\u001b[0;34m.\u001b[0m\u001b[0mcrop_image\u001b[0m\u001b[0;34m(\u001b[0m\u001b[0mimg\u001b[0m\u001b[0;34m,\u001b[0m \u001b[0mbbox\u001b[0m\u001b[0;34m)\u001b[0m\u001b[0;34m\u001b[0m\u001b[0m\n\u001b[0m\u001b[1;32m     43\u001b[0m     \u001b[0;32mreturn\u001b[0m \u001b[0mcropped_img\u001b[0m\u001b[0;34m,\u001b[0m \u001b[0mbbox\u001b[0m\u001b[0;34m\u001b[0m\u001b[0m\n",
      "\u001b[0;32m/home/daichi/Badminton/Chainer_Realtime_Multi-Person_Pose_Estimation/badminton_pose_detector.py\u001b[0m in \u001b[0;36mcrop_image\u001b[0;34m(self, img, bbox)\u001b[0m\n\u001b[1;32m    421\u001b[0m \u001b[0;34m\u001b[0m\u001b[0m\n\u001b[1;32m    422\u001b[0m         \u001b[0;31m# pad\u001b[0m\u001b[0;34m\u001b[0m\u001b[0;34m\u001b[0m\u001b[0m\n\u001b[0;32m--> 423\u001b[0;31m         \u001b[0mpadded_img\u001b[0m \u001b[0;34m=\u001b[0m \u001b[0mnp\u001b[0m\u001b[0;34m.\u001b[0m\u001b[0mzeros\u001b[0m\u001b[0;34m(\u001b[0m\u001b[0;34m(\u001b[0m\u001b[0mbox_h\u001b[0m\u001b[0;34m,\u001b[0m \u001b[0mbox_w\u001b[0m\u001b[0;34m,\u001b[0m \u001b[0mimg_ch\u001b[0m\u001b[0;34m)\u001b[0m\u001b[0;34m,\u001b[0m \u001b[0mdtype\u001b[0m\u001b[0;34m=\u001b[0m\u001b[0mnp\u001b[0m\u001b[0;34m.\u001b[0m\u001b[0muint8\u001b[0m\u001b[0;34m)\u001b[0m\u001b[0;34m\u001b[0m\u001b[0m\n\u001b[0m\u001b[1;32m    424\u001b[0m         \u001b[0mpadded_img\u001b[0m\u001b[0;34m[\u001b[0m\u001b[0mbias_y\u001b[0m\u001b[0;34m:\u001b[0m\u001b[0mbias_y\u001b[0m\u001b[0;34m+\u001b[0m\u001b[0mcrop_h\u001b[0m\u001b[0;34m,\u001b[0m \u001b[0mbias_x\u001b[0m\u001b[0;34m:\u001b[0m\u001b[0mbias_x\u001b[0m\u001b[0;34m+\u001b[0m\u001b[0mcrop_w\u001b[0m\u001b[0;34m]\u001b[0m \u001b[0;34m=\u001b[0m \u001b[0mcropped_img\u001b[0m\u001b[0;34m\u001b[0m\u001b[0m\n\u001b[1;32m    425\u001b[0m         \u001b[0;32mreturn\u001b[0m \u001b[0mpadded_img\u001b[0m\u001b[0;34m\u001b[0m\u001b[0m\n",
      "\u001b[0;31mValueError\u001b[0m: negative dimensions are not allowed"
     ]
    }
   ],
   "source": [
    "# for 文でループ回す、一つ前のフレームを保持する\n",
    "previous_bbox = 0\n",
    "for i, img_name in enumerate(imgs_dir[\"Img_name\"]):\n",
    "    img = cv2.imread('../../Annotations/youtube/baun/{}'.format(img_name))\n",
    "    play_region_img, mask = select_region(img)\n",
    "    multi_poses, scores = pose_detector(play_region_img)\n",
    "    # 全パーツの平均の座標でポーズをソートする ⇨ 0:bottom, 1:top player\n",
    "    ave_pose = np.average(multi_poses[:], axis=1)\n",
    "    multi_person_poses = multi_poses[np.argsort(ave_pose[:,1])[::-1]]\n",
    "    \n",
    "    # 0:bottom, 1:top player\n",
    "    pose_num = 0\n",
    "    # pose_numが変わってもディレクトリは変わらないようにするため\n",
    "    player_dir = pose_num\n",
    "    \n",
    "    unit, limb_length = get_unit_length(multi_person_poses[pose_num])\n",
    "    cropped_img, bbox = crop_person(img, multi_person_poses[pose_num], unit)\n",
    "    \n",
    "    # 最初のループは飛ばす, initializer\n",
    "    if i == 0:\n",
    "        print('Skipped first roop')\n",
    "        previous_bbox = list(bbox)\n",
    "        cv2.imwrite('../data/{0}/{1}'.format(player_dir, img_name), cropped_img)\n",
    "        previous_bbox_center = get_centerof_bbox(bbox)\n",
    "        continue\n",
    "        \n",
    "    # 前フレームのbboxの座標と比較して離れすぎていたら前のフレームのbboxを利用する\n",
    "    current_bbox_center = get_centerof_bbox(bbox)\n",
    "    diffence = np.abs(previous_bbox_center - current_bbox_center)\n",
    "    diffence_length = np.linalg.norm(diffence)\n",
    "    bbox_width = abs(bbox[0] - bbox[2])\n",
    "    \n",
    "    # 選手位置がずれていないか\n",
    "    if (diffence_length > bbox_width): # 選手位置が大きくずれている\n",
    "        print('Detected different player: {}'.format(img_name))\n",
    "        # ---------ここで違う姿勢を検出してしまったときの処理必要---------\n",
    "        if pose_num == 0:\n",
    "            pose_num += 1\n",
    "        else:\n",
    "            pose_num -= 1\n",
    "        unit, limb_length = get_unit_length(multi_person_poses[pose_num])\n",
    "        cropped_img, bbox = crop_person(img, multi_person_poses[pose_num], unit)\n",
    "        current_bbox_center = get_centerof_bbox(bbox)\n",
    "        new_bbox = get_new_bbox(current_bbox_center, previous_bbox)\n",
    "        cropped_img = pose_detector.crop_image(img, new_bbox)\n",
    "        \n",
    "    else: # 選手位置がずれていない\n",
    "        # 矩形の面積を求める\n",
    "        previous_bbox_area = get_bbox_area(previous_bbox)\n",
    "        current_bbox_area = get_bbox_area(bbox)\n",
    "        # 選手の位置がずれていなかったら重心の更新\n",
    "        previous_bbox_center = np.copy(current_bbox_center)\n",
    "        # 大きさには対応しているかどうか\n",
    "        if (current_bbox_area > previous_bbox_area*2): # bboxが大きすぎる\n",
    "            # 前フレームのbboxと比較して大きすぎたら、今のフレームの重心を中心に前フレームと同じ大きさのbboxを使う\n",
    "            new_bbox = get_new_bbox(current_bbox_center, previous_bbox)\n",
    "            cropped_img = pose_detector.crop_image(img, new_bbox)\n",
    "            print('Bbox was too big in the image: {}'.format(img_name))\n",
    "        else: # bboxが正しい大きさ\n",
    "            # bboxの位置を更新する\n",
    "            previous_bbox = bbox\n",
    "            \n",
    "    cv2.imwrite('../data/{0}/{1}'.format(player_dir, img_name), cropped_img)\n",
    "\n",
    "print('Done!')"
   ]
  },
  {
   "cell_type": "markdown",
   "metadata": {},
   "source": [
    "## プレー画面以外でエラーを起こすため、アノテーションされた時間内だけで選手を切り出す"
   ]
  },
  {
   "cell_type": "code",
   "execution_count": 25,
   "metadata": {},
   "outputs": [
    {
     "data": {
      "text/html": [
       "<div>\n",
       "<style>\n",
       "    .dataframe thead tr:only-child th {\n",
       "        text-align: right;\n",
       "    }\n",
       "\n",
       "    .dataframe thead th {\n",
       "        text-align: left;\n",
       "    }\n",
       "\n",
       "    .dataframe tbody tr th {\n",
       "        vertical-align: top;\n",
       "    }\n",
       "</style>\n",
       "<table border=\"1\" class=\"dataframe\">\n",
       "  <thead>\n",
       "    <tr style=\"text-align: right;\">\n",
       "      <th></th>\n",
       "      <th>start</th>\n",
       "      <th>end</th>\n",
       "      <th>label</th>\n",
       "    </tr>\n",
       "  </thead>\n",
       "  <tbody>\n",
       "    <tr>\n",
       "      <th>843</th>\n",
       "      <td>1791500</td>\n",
       "      <td>1792073</td>\n",
       "      <td>lbpt</td>\n",
       "    </tr>\n",
       "    <tr>\n",
       "      <th>844</th>\n",
       "      <td>1792073</td>\n",
       "      <td>1792473</td>\n",
       "      <td>rtpb</td>\n",
       "    </tr>\n",
       "    <tr>\n",
       "      <th>845</th>\n",
       "      <td>1792473</td>\n",
       "      <td>1792879</td>\n",
       "      <td>bhpb</td>\n",
       "    </tr>\n",
       "    <tr>\n",
       "      <th>846</th>\n",
       "      <td>1792879</td>\n",
       "      <td>1793714</td>\n",
       "      <td>rtpt</td>\n",
       "    </tr>\n",
       "    <tr>\n",
       "      <th>847</th>\n",
       "      <td>1793714</td>\n",
       "      <td>1795152</td>\n",
       "      <td>n</td>\n",
       "    </tr>\n",
       "  </tbody>\n",
       "</table>\n",
       "</div>"
      ],
      "text/plain": [
       "       start      end label\n",
       "843  1791500  1792073  lbpt\n",
       "844  1792073  1792473  rtpb\n",
       "845  1792473  1792879  bhpb\n",
       "846  1792879  1793714  rtpt\n",
       "847  1793714  1795152     n"
      ]
     },
     "execution_count": 25,
     "metadata": {},
     "output_type": "execute_result"
    }
   ],
   "source": [
    "original_anno = pd.read_csv('../../Annotations/fine_anno_txt/Baun-Augustyn-GrpG-LondonOlympics-2012.txt', sep=',', delimiter='\\t', header=None, usecols=[2,3,5], names=[\"start\", \"end\", \"label\"])\n",
    "original_anno.tail()"
   ]
  },
  {
   "cell_type": "code",
   "execution_count": 19,
   "metadata": {},
   "outputs": [
    {
     "data": {
      "text/plain": [
       "848"
      ]
     },
     "execution_count": 19,
     "metadata": {},
     "output_type": "execute_result"
    }
   ],
   "source": [
    "len(original_anno)"
   ]
  },
  {
   "cell_type": "code",
   "execution_count": 24,
   "metadata": {},
   "outputs": [
    {
     "data": {
      "text/plain": [
       "220.53333333333333"
      ]
     },
     "execution_count": 24,
     "metadata": {},
     "output_type": "execute_result"
    }
   ],
   "source": [
    "330800/25/60"
   ]
  },
  {
   "cell_type": "code",
   "execution_count": 53,
   "metadata": {},
   "outputs": [
    {
     "name": "stdout",
     "output_type": "stream",
     "text": [
      "0times, .ipynb_checkpoints\n",
      "1times, img_08290.png\n",
      "2times, img_08291.png\n",
      "3times, img_08292.png\n",
      "4times, img_08293.png\n",
      "5times, img_08294.png\n",
      "6times, img_08295.png\n",
      "7times, img_08296.png\n",
      "8times, img_08297.png\n",
      "9times, img_08298.png\n",
      "10times, img_08299.png\n",
      "11times, img_08300.png\n",
      "12times, img_08301.png\n",
      "13times, img_08302.png\n",
      "14times, img_08303.png\n",
      "15times, img_08304.png\n",
      "16times, img_08305.png\n",
      "17times, img_08306.png\n",
      "18times, img_08307.png\n",
      "19times, img_08308.png\n",
      "20times, img_08309.png\n",
      "21times, img_08310.png\n",
      "22times, img_08311.png\n",
      "23times, img_08312.png\n",
      "24times, img_08313.png\n",
      "25times, img_08314.png\n",
      "26times, img_08315.png\n",
      "27times, img_08316.png\n",
      "28times, img_08317.png\n",
      "29times, img_08318.png\n",
      "30times, img_08319.png\n",
      "31times, img_08320.png\n",
      "32times, img_08321.png\n",
      "33times, img_08322.png\n",
      "34times, img_08323.png\n",
      "35times, img_08324.png\n",
      "36times, img_08325.png\n",
      "37times, img_08326.png\n",
      "38times, img_08327.png\n",
      "39times, img_08328.png\n",
      "40times, img_08329.png\n",
      "41times, img_08330.png\n",
      "42times, img_08331.png\n",
      "43times, img_08332.png\n",
      "44times, img_08333.png\n",
      "45times, img_08334.png\n",
      "46times, img_08335.png\n",
      "47times, img_08336.png\n",
      "48times, img_08337.png\n",
      "49times, img_08338.png\n",
      "50times, img_08339.png\n",
      "51times, img_08340.png\n",
      "52times, img_08341.png\n",
      "53times, img_08342.png\n",
      "54times, img_08343.png\n",
      "55times, img_08344.png\n",
      "56times, img_08345.png\n",
      "57times, img_08346.png\n",
      "58times, img_08347.png\n",
      "59times, img_08348.png\n",
      "60times, img_08349.png\n",
      "61times, img_08350.png\n",
      "62times, img_08351.png\n",
      "63times, img_08352.png\n",
      "64times, img_08353.png\n",
      "65times, img_08354.png\n",
      "66times, img_08355.png\n",
      "67times, img_08356.png\n",
      "68times, img_08357.png\n",
      "69times, img_08358.png\n",
      "70times, img_08359.png\n",
      "71times, img_08360.png\n",
      "72times, img_08361.png\n",
      "73times, img_08362.png\n",
      "74times, img_08363.png\n",
      "75times, img_08364.png\n",
      "76times, img_08365.png\n",
      "77times, img_08366.png\n",
      "78times, img_08367.png\n",
      "79times, img_08368.png\n",
      "80times, img_08369.png\n",
      "81times, img_08370.png\n",
      "82times, img_08371.png\n",
      "83times, img_08372.png\n",
      "84times, img_08373.png\n",
      "85times, img_08374.png\n",
      "86times, img_08375.png\n",
      "87times, img_08376.png\n",
      "88times, img_08377.png\n",
      "89times, img_08378.png\n",
      "90times, img_08379.png\n",
      "91times, img_08380.png\n",
      "92times, img_08381.png\n",
      "93times, img_08382.png\n",
      "94times, img_08383.png\n",
      "95times, img_08384.png\n",
      "96times, img_08385.png\n",
      "97times, img_08386.png\n",
      "98times, img_08387.png\n",
      "99times, img_08388.png\n",
      "100times, img_08389.png\n",
      "101times, img_08390.png\n",
      "102times, img_08391.png\n",
      "103times, img_08392.png\n",
      "104times, img_08393.png\n",
      "105times, img_08394.png\n",
      "106times, img_08395.png\n",
      "107times, img_08396.png\n",
      "108times, img_08397.png\n",
      "109times, img_08398.png\n",
      "110times, img_08399.png\n",
      "111times, img_08400.png\n",
      "112times, img_08401.png\n",
      "113times, img_08402.png\n"
     ]
    }
   ],
   "source": [
    "import os\n",
    "img_list = os.listdir('../data/0/')\n",
    "img_lists = np.sort(img_list)\n",
    "for i, img in enumerate(img_lists):\n",
    "    print('{0}times, {1}'.format(i, img))"
   ]
  },
  {
   "cell_type": "markdown",
   "metadata": {},
   "source": [
    "## 姿勢の並び替え\n",
    "poseの配列をy座標で並び替えてbottom playerとtop playerで分割する"
   ]
  },
  {
   "cell_type": "code",
   "execution_count": 33,
   "metadata": {},
   "outputs": [
    {
     "data": {
      "text/plain": [
       "array([ 586.,  817.,  455.,  442.,    0.])"
      ]
     },
     "execution_count": 33,
     "metadata": {},
     "output_type": "execute_result"
    }
   ],
   "source": [
    "poses[:, 10, 1]"
   ]
  },
  {
   "cell_type": "code",
   "execution_count": 32,
   "metadata": {},
   "outputs": [
    {
     "data": {
      "text/plain": [
       "array([ 817.,  586.,  455.,  442.,    0.])"
      ]
     },
     "execution_count": 32,
     "metadata": {},
     "output_type": "execute_result"
    }
   ],
   "source": [
    "np.sort(poses[:, 10, 1])[::-1]"
   ]
  },
  {
   "cell_type": "markdown",
   "metadata": {},
   "source": [
    "# Single image for test. \n",
    "## poses, score = pose_detector(img)"
   ]
  },
  {
   "cell_type": "code",
   "execution_count": 12,
   "metadata": {},
   "outputs": [
    {
     "name": "stdout",
     "output_type": "stream",
     "text": [
      "5\n"
     ]
    },
    {
     "data": {
      "text/plain": [
       "<matplotlib.image.AxesImage at 0x7f0ca015f828>"
      ]
     },
     "execution_count": 12,
     "metadata": {},
     "output_type": "execute_result"
    },
    {
     "data": {
      "image/png": "[encoded data removed]",
      "text/plain": [
       "<matplotlib.figure.Figure at 0x7f0ca2177898>"
      ]
     },
     "metadata": {},
     "output_type": "display_data"
    }
   ],
   "source": [
    "# read image\n",
    "img = Image.open('../../Annotations/youtube/baun/img_08404.png')\n",
    "img = np.array(img)\n",
    "# select detection area\n",
    "img, mask = select_region(img)\n",
    "# inference\n",
    "poses, scores = pose_detector(img) # posesはscoreが高い順\n",
    "img = draw_person_pose(img, poses)\n",
    "\n",
    "unit, limb_length = get_unit_length(poses[0])\n",
    "cropped_img, bbox = crop_person(img, poses[0], unit)\n",
    "print(len(poses))\n",
    "# new_bbox = get_new_bbox(current_bbox_center, previous_bbox)\n",
    "cropped_img = pose_detector.crop_image(img, bbox)\n",
    "plt.imshow(cropped_img)"
   ]
  },
  {
   "cell_type": "markdown",
   "metadata": {},
   "source": [
    "## 審判の顔を検出してしまっている.."
   ]
  },
  {
   "cell_type": "markdown",
   "metadata": {},
   "source": [
    "## poses"
   ]
  },
  {
   "cell_type": "code",
   "execution_count": 23,
   "metadata": {},
   "outputs": [
    {
     "name": "stdout",
     "output_type": "stream",
     "text": [
      "25.7508565256\n"
     ]
    },
    {
     "data": {
      "image/png": "[encoded data removed]",
      "text/plain": [
       "<matplotlib.figure.Figure at 0x7f60d03a5d68>"
      ]
     },
     "metadata": {},
     "output_type": "display_data"
    }
   ],
   "source": [
    "# detect bottom player(0:bottom, 1:top player)\n",
    "unit_0, limbs_len = get_unit_length(poses[0])\n",
    "print(unit_0)\n",
    "cropped_img_b, bbox_b = crop_person(img, poses[0], unit_0) \n",
    "if cropped_img_b is not None:\n",
    "    crop_img_b = img[bbox_b[1]:bbox_b[3], bbox_b[0]:bbox_b[2]] #bbox=(x_lefttop,y)\n",
    "    plt.imshow(crop_img_b)"
   ]
  },
  {
   "cell_type": "code",
   "execution_count": null,
   "metadata": {},
   "outputs": [],
   "source": []
  },
  {
   "cell_type": "code",
   "execution_count": null,
   "metadata": {},
   "outputs": [],
   "source": []
  },
  {
   "cell_type": "markdown",
   "metadata": {},
   "source": [
    "## poses, scores = pose_detector.detect_precise(img_pre)\n",
    "## poses_pre"
   ]
  },
  {
   "cell_type": "code",
   "execution_count": 79,
   "metadata": {},
   "outputs": [
    {
     "name": "stdout",
     "output_type": "stream",
     "text": [
      "[[ 893.  436.    2.]\n",
      " [ 886.  457.    2.]\n",
      " [ 870.  458.    2.]\n",
      " [ 858.  480.    2.]\n",
      " [ 863.  498.    2.]\n",
      " [ 903.  455.    2.]\n",
      " [ 905.  481.    2.]\n",
      " [ 909.  499.    2.]\n",
      " [ 871.  508.    2.]\n",
      " [ 858.  551.    2.]\n",
      " [ 832.  586.    2.]\n",
      " [ 896.  508.    2.]\n",
      " [ 911.  544.    2.]\n",
      " [ 918.  576.    2.]\n",
      " [ 888.  433.    2.]\n",
      " [ 895.  432.    2.]\n",
      " [ 881.  436.    2.]\n",
      " [ 898.  435.    2.]]\n"
     ]
    },
    {
     "data": {
      "image/png": "[encoded data removed]",
      "text/plain": [
       "<matplotlib.figure.Figure at 0x7fa4300685f8>"
      ]
     },
     "metadata": {},
     "output_type": "display_data"
    }
   ],
   "source": [
    "img_pre = cv2.imread('../data/youtube/img_08339.png')\n",
    "img_pre, mask = select_region(img_pre)\n",
    "\n",
    "# res_img = cv2.addWeighted(img, 0.6, draw_person_pose(img, poses), 0.4, 0)\n",
    "# draw keypoint\n",
    "poses_pre, scores = pose_detector.detect_precise(img_pre) # posesはscoreが高い順\n",
    "img_pre = draw_person_pose(img_pre, poses_pre)\n",
    "\n",
    "plt.imshow(img_pre)\n",
    "print(poses_pre[0])"
   ]
  },
  {
   "cell_type": "code",
   "execution_count": 85,
   "metadata": {},
   "outputs": [
    {
     "name": "stdout",
     "output_type": "stream",
     "text": [
      "377.484268333\n",
      "[   95.35197953    67.35725648    82.61961026    91.04943712    60.8276253\n",
      "    59.94163828    12.04159458    51.88448708    48.27007354    36.40054945\n",
      "    11.04536102    46.5188134     43.28972164  1175.02723373    45.69463864\n",
      "     7.28010989     7.61577311    16.40121947  1152.53156139]\n"
     ]
    },
    {
     "data": {
      "image/png": "[encoded data removed]",
      "text/plain": [
       "<matplotlib.figure.Figure at 0x7fa424232898>"
      ]
     },
     "metadata": {},
     "output_type": "display_data"
    }
   ],
   "source": [
    "# detect bottom player(0:bottom, 1:top player)\n",
    "unit_pre_0, limbs_len_pre = get_unit_length(poses_pre[1])\n",
    "print(unit_pre_0)\n",
    "print(limbs_len_pre)\n",
    "cropped_img, bbox = crop_person(img_pre, poses_pre[1], unit_pre_0) \n",
    "if cropped_img is not None:\n",
    "    crop_img = img[bbox[1]:bbox[3], bbox[0]:bbox[2]] #bbox=(x_lefttop,y)\n",
    "    plt.imshow(crop_img)"
   ]
  },
  {
   "cell_type": "markdown",
   "metadata": {},
   "source": [
    "# multi images"
   ]
  },
  {
   "cell_type": "code",
   "execution_count": 15,
   "metadata": {
    "scrolled": true
   },
   "outputs": [
    {
     "name": "stdout",
     "output_type": "stream",
     "text": [
      "8300\n",
      "23.1604041602\n",
      "8301\n",
      "22.8886976893\n",
      "8302\n",
      "22.7768242437\n",
      "8303\n",
      "23.3837262799\n",
      "8304\n",
      "23.0123025444\n",
      "8305\n",
      "23.8046210198\n",
      "8306\n",
      "23.8102025666\n",
      "8307\n",
      "24.1815382659\n",
      "8308\n",
      "23.3440314045\n",
      "8309\n",
      "23.6728515044\n",
      "8310\n",
      "23.9763472108\n",
      "8311\n",
      "24.8892989568\n",
      "8312\n",
      "24.5155856087\n",
      "8313\n",
      "24.0412436339\n",
      "8314\n",
      "24.1446919293\n",
      "8315\n",
      "23.448303899\n",
      "8316\n",
      "22.7705782326\n",
      "8317\n",
      "22.985473912\n",
      "8318\n",
      "22.2795599226\n",
      "8319\n",
      "23.0119738999\n",
      "8320\n",
      "22.9951745644\n",
      "8321\n",
      "23.410459384\n",
      "8322\n",
      "22.2508998772\n",
      "8323\n",
      "24.3489835384\n",
      "8324\n",
      "24.8253212601\n",
      "8325\n",
      "24.0743849765\n",
      "8326\n",
      "24.7657991346\n",
      "8327\n",
      "25.1410389542\n",
      "8328\n",
      "26.3954220573\n",
      "8329\n",
      "27.2214471172\n",
      "8330\n",
      "27.2774241212\n",
      "8331\n",
      "26.1193110958\n",
      "8332\n",
      "25.3058630592\n",
      "8333\n",
      "25.6212625673\n",
      "8334\n",
      "25.2575851421\n",
      "8335\n",
      "26.1699147211\n",
      "8336\n",
      "25.4435723141\n",
      "8337\n",
      "24.8241934983\n",
      "8338\n",
      "24.8139654057\n",
      "8339\n",
      "377.484268333\n"
     ]
    }
   ],
   "source": [
    "# read multi images\n",
    "for i in range(0,61):    \n",
    "    print('83{0:02d}'.format(i))\n",
    "    # read image\n",
    "    img = cv2.imread('../data/youtube/img_083{0:02d}.png'.format(i))\n",
    "    # select detection area\n",
    "    img, mask = select_region(img)\n",
    "    # inference\n",
    "    poses, scores = pose_detector(img) # posesはscoreが高い順\n",
    "    # draw keypoint\n",
    "    img = draw_person_pose(img, poses)\n",
    "    # plt.imshow(img)\n",
    "    \n",
    "    # compare unit_length \n",
    "    unit_0 = get_unit_length(poses[0])\n",
    "    unit_1 = get_unit_length(poses[1])\n",
    "    print(unit_1)\n",
    "    if (unit_1 > 100):\n",
    "        print(i)\n",
    "        break\n",
    "    # detect bottom player(0:bottom, 1:top player)\n",
    "    cropped_img_b, bbox_b = crop_person(img, poses[0], unit_0) \n",
    "    if cropped_img_b is not None:\n",
    "        crop_img_b = img[bbox_b[1]:bbox_b[3], bbox_b[0]:bbox_b[2]] #bbox=(x_lefttop,y)\n",
    "        cv2.imwrite('../data/0/crop_{:d}.png'.format(i), crop_img_b)\n",
    "\n",
    "    # detect top player\n",
    "    cropped_img, bbox = crop_person(img, poses[1], unit_1) \n",
    "    if cropped_img is not None:\n",
    "        crop_img = img[bbox[1]:bbox[3], bbox[0]:bbox[2]] #bbox=(x_lefttop,y)\n",
    "        cv2.imwrite('../data/1/crop_{:d}.png'.format(i), crop_img)"
   ]
  },
  {
   "cell_type": "code",
   "execution_count": null,
   "metadata": {
    "collapsed": true
   },
   "outputs": [],
   "source": [
    "if (unit_0 > unit_1): # (larger=bottom)\n",
    "        # detect bottom player(0:bottom, 1:top player)\n",
    "        cropped_img_b, bbox_b = pose_detector.crop_person(img, poses[0], unit_0) \n",
    "        if cropped_img_b is not None:\n",
    "            crop_img_b = img[bbox_b[1]:bbox_b[3], bbox_b[0]:bbox_b[2]] #bbox=(x_lefttop,y)\n",
    "            cv2.imwrite('./data/0/crop_{:d}.png'.format(i), crop_img_b)\n",
    "        \n",
    "        # detect top player\n",
    "        cropped_img, bbox = pose_detector.crop_person(img, poses[1], unit_1) \n",
    "        if cropped_img is not None:\n",
    "            crop_img = img[bbox[1]:bbox[3], bbox[0]:bbox[2]] #bbox=(x_lefttop,y)\n",
    "            cv2.imwrite('./data/1/crop_{:d}.png'.format(i), crop_img)\n",
    "    else:\n",
    "        print('detect bottom player failed.')    \n"
   ]
  },
  {
   "cell_type": "code",
   "execution_count": null,
   "metadata": {
    "collapsed": true
   },
   "outputs": [],
   "source": [
    "# detect bottom player(0:bottom, 1:top player)\n",
    "cropped_img_b, bbox_b = pose_detector.crop_person(img, poses[0], unit_0) \n",
    "if cropped_img_b is not None:\n",
    "    crop_img_b = img[bbox_b[1]:bbox_b[3], bbox_b[0]:bbox_b[2]] #bbox=(x_lefttop,y)\n",
    "    cv2.imwrite('./data/0/crop_{:d}.png'.format(i), crop_img_b)\n",
    "\n",
    "# detect top player\n",
    "cropped_img, bbox = pose_detector.crop_person(img, poses[1], unit_1) \n",
    "if cropped_img is not None:\n",
    "    crop_img = img[bbox[1]:bbox[3], bbox[0]:bbox[2]] #bbox=(x_lefttop,y)\n",
    "    cv2.imwrite('./data/1/crop_{:d}.png'.format(i), crop_img)"
   ]
  },
  {
   "cell_type": "code",
   "execution_count": null,
   "metadata": {
    "collapsed": true
   },
   "outputs": [],
   "source": []
  },
  {
   "cell_type": "code",
   "execution_count": null,
   "metadata": {
    "collapsed": true
   },
   "outputs": [],
   "source": []
  },
  {
   "cell_type": "code",
   "execution_count": null,
   "metadata": {
    "collapsed": true
   },
   "outputs": [],
   "source": []
  }
 ],
 "metadata": {
  "kernelspec": {
   "display_name": "Python 3",
   "language": "python",
   "name": "python3"
  },
  "language_info": {
   "codemirror_mode": {
    "name": "ipython",
    "version": 3
   },
   "file_extension": ".py",
   "mimetype": "text/x-python",
   "name": "python",
   "nbconvert_exporter": "python",
   "pygments_lexer": "ipython3",
   "version": "3.6.3"
  }
 },
 "nbformat": 4,
 "nbformat_minor": 2
}
