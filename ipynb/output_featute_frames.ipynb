{
 "cells": [
  {
   "cell_type": "code",
   "execution_count": 1,
   "metadata": {},
   "outputs": [],
   "source": [
    "import os\n",
    "import pandas as pd\n",
    "import numpy as np"
   ]
  },
  {
   "cell_type": "code",
   "execution_count": 46,
   "metadata": {},
   "outputs": [],
   "source": [
    "# read annotation file\n",
    "anno_text = pd.read_csv('../../Annotations/fine_anno_txt/Nguyen-Parupalli-GrpD-LondonOlympics-2012.txt', header=None, sep='', delimiter='\\t', usecols=[2,3,5], names=[\"start\", \"end\", \"label\"])\n"
   ]
  },
  {
   "cell_type": "code",
   "execution_count": 47,
   "metadata": {},
   "outputs": [
    {
     "data": {
      "text/html": [
       "<div>\n",
       "<style>\n",
       "    .dataframe thead tr:only-child th {\n",
       "        text-align: right;\n",
       "    }\n",
       "\n",
       "    .dataframe thead th {\n",
       "        text-align: left;\n",
       "    }\n",
       "\n",
       "    .dataframe tbody tr th {\n",
       "        vertical-align: top;\n",
       "    }\n",
       "</style>\n",
       "<table border=\"1\" class=\"dataframe\">\n",
       "  <thead>\n",
       "    <tr style=\"text-align: right;\">\n",
       "      <th></th>\n",
       "      <th>start</th>\n",
       "      <th>end</th>\n",
       "      <th>label</th>\n",
       "    </tr>\n",
       "  </thead>\n",
       "  <tbody>\n",
       "  </tbody>\n",
       "</table>\n",
       "</div>"
      ],
      "text/plain": [
       "Empty DataFrame\n",
       "Columns: [start, end, label]\n",
       "Index: []"
      ]
     },
     "execution_count": 47,
     "metadata": {},
     "output_type": "execute_result"
    }
   ],
   "source": [
    "# 異常文字列検出\n",
    "anno_text[anno_text[\"label\"] == \"n \"]"
   ]
  },
  {
   "cell_type": "code",
   "execution_count": null,
   "metadata": {},
   "outputs": [],
   "source": []
  },
  {
   "cell_type": "code",
   "execution_count": 48,
   "metadata": {},
   "outputs": [
    {
     "data": {
      "text/plain": [
       "{'bhpb': 6,\n",
       " 'bhpt': 5,\n",
       " 'fhpb': 8,\n",
       " 'fhpt': 7,\n",
       " 'lbpb': 10,\n",
       " 'lbpt': 9,\n",
       " 'n': 0,\n",
       " 'rtpb': 4,\n",
       " 'rtpt': 3,\n",
       " 'smpb': 2,\n",
       " 'smpt': 1,\n",
       " 'spb': 12,\n",
       " 'spt': 11}"
      ]
     },
     "execution_count": 48,
     "metadata": {},
     "output_type": "execute_result"
    }
   ],
   "source": [
    "# create action label dictionary\n",
    "action_labels = pd.read_csv('./labels.txt', header=None, sep='\\t')\n",
    "action_index = {l:i for i,l in enumerate(action_labels[0])}\n",
    "action_index"
   ]
  },
  {
   "cell_type": "code",
   "execution_count": 49,
   "metadata": {},
   "outputs": [
    {
     "data": {
      "text/html": [
       "<div>\n",
       "<style>\n",
       "    .dataframe thead tr:only-child th {\n",
       "        text-align: right;\n",
       "    }\n",
       "\n",
       "    .dataframe thead th {\n",
       "        text-align: left;\n",
       "    }\n",
       "\n",
       "    .dataframe tbody tr th {\n",
       "        vertical-align: top;\n",
       "    }\n",
       "</style>\n",
       "<table border=\"1\" class=\"dataframe\">\n",
       "  <thead>\n",
       "    <tr style=\"text-align: right;\">\n",
       "      <th></th>\n",
       "      <th>start</th>\n",
       "      <th>end</th>\n",
       "      <th>label_num</th>\n",
       "    </tr>\n",
       "  </thead>\n",
       "  <tbody>\n",
       "    <tr>\n",
       "      <th>0</th>\n",
       "      <td>111937</td>\n",
       "      <td>112080</td>\n",
       "      <td>11.0</td>\n",
       "    </tr>\n",
       "    <tr>\n",
       "      <th>1</th>\n",
       "      <td>112080</td>\n",
       "      <td>112440</td>\n",
       "      <td>4.0</td>\n",
       "    </tr>\n",
       "    <tr>\n",
       "      <th>2</th>\n",
       "      <td>112440</td>\n",
       "      <td>112800</td>\n",
       "      <td>8.0</td>\n",
       "    </tr>\n",
       "    <tr>\n",
       "      <th>3</th>\n",
       "      <td>112800</td>\n",
       "      <td>113360</td>\n",
       "      <td>3.0</td>\n",
       "    </tr>\n",
       "    <tr>\n",
       "      <th>4</th>\n",
       "      <td>113360</td>\n",
       "      <td>113680</td>\n",
       "      <td>9.0</td>\n",
       "    </tr>\n",
       "  </tbody>\n",
       "</table>\n",
       "</div>"
      ],
      "text/plain": [
       "    start     end  label_num\n",
       "0  111937  112080       11.0\n",
       "1  112080  112440        4.0\n",
       "2  112440  112800        8.0\n",
       "3  112800  113360        3.0\n",
       "4  113360  113680        9.0"
      ]
     },
     "execution_count": 49,
     "metadata": {},
     "output_type": "execute_result"
    }
   ],
   "source": [
    "# convert labels \"string\" to \"int\"\n",
    "anno_tmp = np.ones(len(anno_text[\"label\"]))\n",
    "for i in range(len(anno_tmp)):\n",
    "    anno_tmp[i] = action_index[anno_text[\"label\"][i]]\n",
    "label_num = pd.Series(anno_tmp, name=\"label_num\")\n",
    "anno_num = pd.concat([anno_text.loc[:, [\"start\",\"end\"]], label_num], axis=1)\n",
    "anno_num.head()"
   ]
  },
  {
   "cell_type": "code",
   "execution_count": 50,
   "metadata": {},
   "outputs": [],
   "source": [
    "# \n",
    "start_time = anno_num[\"start\"]//40\n",
    "end_time = anno_num[\"end\"]//40"
   ]
  },
  {
   "cell_type": "code",
   "execution_count": 51,
   "metadata": {},
   "outputs": [],
   "source": [
    "imlist = os.listdir('/home/daichi/Badminton/badminton_action_recognition_using_pose_estimation/datasets/match_5/nguyen/')"
   ]
  },
  {
   "cell_type": "code",
   "execution_count": 52,
   "metadata": {},
   "outputs": [],
   "source": [
    "## read frames list\n",
    "# \"_\"と\".\"を正規表現で取り除く\n",
    "img_list = pd.Series(imlist).str.extract('(.+)_(.+)\\.(.+)', expand=True).dropna()\n",
    "# ソートしてnumpy配列にする\n",
    "frames = np.array(img_list.sort_values(1)[1], np.int)"
   ]
  },
  {
   "cell_type": "code",
   "execution_count": null,
   "metadata": {},
   "outputs": [],
   "source": []
  },
  {
   "cell_type": "code",
   "execution_count": 53,
   "metadata": {},
   "outputs": [],
   "source": [
    "# frameにラベル付けする\n",
    "frame_label = np.zeros(len(frames))\n",
    "for i, frame in enumerate(frames):\n",
    "    idx = np.nonzero((start_time <= frame) & (frame < end_time))[0]\n",
    "    if len(idx)>0:\n",
    "        frame_label[i] = anno_num[\"label_num\"][idx]\n",
    "    else:\n",
    "        frame_label[i] = \"NaN\""
   ]
  },
  {
   "cell_type": "code",
   "execution_count": 54,
   "metadata": {},
   "outputs": [],
   "source": [
    "# concatする\n",
    "pd_img = pd.Series(frames, name=\"Frame\")\n",
    "pd_label = pd.Series(frame_label, name=\"Label\")\n",
    "pd_img_label = pd.concat([pd_img, pd_label], axis=1)"
   ]
  },
  {
   "cell_type": "code",
   "execution_count": 55,
   "metadata": {},
   "outputs": [
    {
     "data": {
      "text/plain": [
       "(65648,)"
      ]
     },
     "execution_count": 55,
     "metadata": {},
     "output_type": "execute_result"
    }
   ],
   "source": [
    "pd_img_label[\"Label\"].shape"
   ]
  },
  {
   "cell_type": "code",
   "execution_count": 56,
   "metadata": {},
   "outputs": [],
   "source": [
    "# NaNを除去する\n",
    "feature_labels = pd_img_label.dropna()"
   ]
  },
  {
   "cell_type": "code",
   "execution_count": 57,
   "metadata": {},
   "outputs": [
    {
     "data": {
      "text/plain": [
       "(20941,)"
      ]
     },
     "execution_count": 57,
     "metadata": {},
     "output_type": "execute_result"
    }
   ],
   "source": [
    "feature_labels[\"Label\"].shape"
   ]
  },
  {
   "cell_type": "code",
   "execution_count": 58,
   "metadata": {},
   "outputs": [],
   "source": [
    "# 読み込む画像のリストを作成する\n",
    "listdir = []\n",
    "for i, num in enumerate(feature_labels[\"Frame\"]):\n",
    "    listdir.append(\"img_{0:06d}.jpg\".format(num))"
   ]
  },
  {
   "cell_type": "code",
   "execution_count": 59,
   "metadata": {},
   "outputs": [],
   "source": [
    "feature_label = list(feature_labels[\"Label\"])"
   ]
  },
  {
   "cell_type": "code",
   "execution_count": 60,
   "metadata": {},
   "outputs": [],
   "source": [
    "# フレーム名とそのラベルをDataframeで作る\n",
    "df_list = pd.Series(listdir, name=\"Img_name\")\n",
    "df_feat = pd.Series(feature_label, name=\"Labels\")\n",
    "df_label = pd.concat([df_list, df_feat], axis=1)"
   ]
  },
  {
   "cell_type": "code",
   "execution_count": 61,
   "metadata": {},
   "outputs": [],
   "source": [
    "# text fileで出力\n",
    "df_label.to_csv('/home/daichi/Badminton/badminton_action_recognition_using_pose_estimation/datasets/match_5/nguyen_feacture_lable.txt')"
   ]
  },
  {
   "cell_type": "code",
   "execution_count": 62,
   "metadata": {},
   "outputs": [
    {
     "data": {
      "text/html": [
       "<div>\n",
       "<style>\n",
       "    .dataframe thead tr:only-child th {\n",
       "        text-align: right;\n",
       "    }\n",
       "\n",
       "    .dataframe thead th {\n",
       "        text-align: left;\n",
       "    }\n",
       "\n",
       "    .dataframe tbody tr th {\n",
       "        vertical-align: top;\n",
       "    }\n",
       "</style>\n",
       "<table border=\"1\" class=\"dataframe\">\n",
       "  <thead>\n",
       "    <tr style=\"text-align: right;\">\n",
       "      <th></th>\n",
       "      <th>Img_name</th>\n",
       "      <th>Labels</th>\n",
       "    </tr>\n",
       "  </thead>\n",
       "  <tbody>\n",
       "    <tr>\n",
       "      <th>20936</th>\n",
       "      <td>img_060540.jpg</td>\n",
       "      <td>0.0</td>\n",
       "    </tr>\n",
       "    <tr>\n",
       "      <th>20937</th>\n",
       "      <td>img_060541.jpg</td>\n",
       "      <td>0.0</td>\n",
       "    </tr>\n",
       "    <tr>\n",
       "      <th>20938</th>\n",
       "      <td>img_060542.jpg</td>\n",
       "      <td>0.0</td>\n",
       "    </tr>\n",
       "    <tr>\n",
       "      <th>20939</th>\n",
       "      <td>img_060543.jpg</td>\n",
       "      <td>0.0</td>\n",
       "    </tr>\n",
       "    <tr>\n",
       "      <th>20940</th>\n",
       "      <td>img_060544.jpg</td>\n",
       "      <td>0.0</td>\n",
       "    </tr>\n",
       "  </tbody>\n",
       "</table>\n",
       "</div>"
      ],
      "text/plain": [
       "             Img_name  Labels\n",
       "20936  img_060540.jpg     0.0\n",
       "20937  img_060541.jpg     0.0\n",
       "20938  img_060542.jpg     0.0\n",
       "20939  img_060543.jpg     0.0\n",
       "20940  img_060544.jpg     0.0"
      ]
     },
     "execution_count": 62,
     "metadata": {},
     "output_type": "execute_result"
    }
   ],
   "source": [
    "df_label.tail()"
   ]
  },
  {
   "cell_type": "code",
   "execution_count": null,
   "metadata": {},
   "outputs": [],
   "source": []
  },
  {
   "cell_type": "code",
   "execution_count": null,
   "metadata": {},
   "outputs": [],
   "source": []
  },
  {
   "cell_type": "code",
   "execution_count": null,
   "metadata": {},
   "outputs": [],
   "source": []
  },
  {
   "cell_type": "code",
   "execution_count": null,
   "metadata": {},
   "outputs": [],
   "source": []
  }
 ],
 "metadata": {
  "kernelspec": {
   "display_name": "Python 3",
   "language": "python",
   "name": "python3"
  },
  "language_info": {
   "codemirror_mode": {
    "name": "ipython",
    "version": 3
   },
   "file_extension": ".py",
   "mimetype": "text/x-python",
   "name": "python",
   "nbconvert_exporter": "python",
   "pygments_lexer": "ipython3",
   "version": "3.6.3"
  }
 },
 "nbformat": 4,
 "nbformat_minor": 2
}
