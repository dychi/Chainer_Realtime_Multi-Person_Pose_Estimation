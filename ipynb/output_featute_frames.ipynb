{
 "cells": [
  {
   "cell_type": "code",
   "execution_count": 2,
   "metadata": {},
   "outputs": [],
   "source": [
    "import os\n",
    "import pandas as pd\n",
    "import numpy as np"
   ]
  },
  {
   "cell_type": "code",
   "execution_count": 34,
   "metadata": {},
   "outputs": [],
   "source": [
    "# read annotation file\n",
    "anno_text = pd.read_csv('../../Annotations/fine_anno_txt/Chen-Zwiebler-R32-LondonOlympics-2012.txt', header=None, sep='', delimiter='\\t', usecols=[2,3,5], names=[\"start\", \"end\", \"label\"])\n"
   ]
  },
  {
   "cell_type": "code",
   "execution_count": 35,
   "metadata": {},
   "outputs": [
    {
     "data": {
      "text/html": [
       "<div>\n",
       "<style scoped>\n",
       "    .dataframe tbody tr th:only-of-type {\n",
       "        vertical-align: middle;\n",
       "    }\n",
       "\n",
       "    .dataframe tbody tr th {\n",
       "        vertical-align: top;\n",
       "    }\n",
       "\n",
       "    .dataframe thead th {\n",
       "        text-align: right;\n",
       "    }\n",
       "</style>\n",
       "<table border=\"1\" class=\"dataframe\">\n",
       "  <thead>\n",
       "    <tr style=\"text-align: right;\">\n",
       "      <th></th>\n",
       "      <th>start</th>\n",
       "      <th>end</th>\n",
       "      <th>label</th>\n",
       "    </tr>\n",
       "  </thead>\n",
       "  <tbody>\n",
       "  </tbody>\n",
       "</table>\n",
       "</div>"
      ],
      "text/plain": [
       "Empty DataFrame\n",
       "Columns: [start, end, label]\n",
       "Index: []"
      ]
     },
     "execution_count": 35,
     "metadata": {},
     "output_type": "execute_result"
    }
   ],
   "source": [
    "# 異常文字列検出\n",
    "anno_text[anno_text[\"label\"] == \"n \"]"
   ]
  },
  {
   "cell_type": "code",
   "execution_count": null,
   "metadata": {},
   "outputs": [],
   "source": []
  },
  {
   "cell_type": "code",
   "execution_count": 36,
   "metadata": {},
   "outputs": [
    {
     "data": {
      "text/plain": [
       "{'bhpb': 6,\n",
       " 'bhpt': 5,\n",
       " 'fhpb': 8,\n",
       " 'fhpt': 7,\n",
       " 'lbpb': 10,\n",
       " 'lbpt': 9,\n",
       " 'n': 0,\n",
       " 'rtpb': 4,\n",
       " 'rtpt': 3,\n",
       " 'smpb': 2,\n",
       " 'smpt': 1,\n",
       " 'spb': 12,\n",
       " 'spt': 11}"
      ]
     },
     "execution_count": 36,
     "metadata": {},
     "output_type": "execute_result"
    }
   ],
   "source": [
    "# create action label dictionary\n",
    "action_labels = pd.read_csv('./labels.txt', header=None, sep='\\t')\n",
    "action_index = {l:i for i,l in enumerate(action_labels[0])}\n",
    "action_index"
   ]
  },
  {
   "cell_type": "code",
   "execution_count": 37,
   "metadata": {},
   "outputs": [
    {
     "data": {
      "text/html": [
       "<div>\n",
       "<style scoped>\n",
       "    .dataframe tbody tr th:only-of-type {\n",
       "        vertical-align: middle;\n",
       "    }\n",
       "\n",
       "    .dataframe tbody tr th {\n",
       "        vertical-align: top;\n",
       "    }\n",
       "\n",
       "    .dataframe thead th {\n",
       "        text-align: right;\n",
       "    }\n",
       "</style>\n",
       "<table border=\"1\" class=\"dataframe\">\n",
       "  <thead>\n",
       "    <tr style=\"text-align: right;\">\n",
       "      <th></th>\n",
       "      <th>start</th>\n",
       "      <th>end</th>\n",
       "      <th>label_num</th>\n",
       "    </tr>\n",
       "  </thead>\n",
       "  <tbody>\n",
       "    <tr>\n",
       "      <th>0</th>\n",
       "      <td>63894</td>\n",
       "      <td>64720</td>\n",
       "      <td>9.0</td>\n",
       "    </tr>\n",
       "    <tr>\n",
       "      <th>1</th>\n",
       "      <td>64720</td>\n",
       "      <td>65440</td>\n",
       "      <td>4.0</td>\n",
       "    </tr>\n",
       "    <tr>\n",
       "      <th>2</th>\n",
       "      <td>65440</td>\n",
       "      <td>66040</td>\n",
       "      <td>2.0</td>\n",
       "    </tr>\n",
       "    <tr>\n",
       "      <th>3</th>\n",
       "      <td>66040</td>\n",
       "      <td>66343</td>\n",
       "      <td>3.0</td>\n",
       "    </tr>\n",
       "    <tr>\n",
       "      <th>4</th>\n",
       "      <td>66343</td>\n",
       "      <td>66880</td>\n",
       "      <td>9.0</td>\n",
       "    </tr>\n",
       "  </tbody>\n",
       "</table>\n",
       "</div>"
      ],
      "text/plain": [
       "   start    end  label_num\n",
       "0  63894  64720        9.0\n",
       "1  64720  65440        4.0\n",
       "2  65440  66040        2.0\n",
       "3  66040  66343        3.0\n",
       "4  66343  66880        9.0"
      ]
     },
     "execution_count": 37,
     "metadata": {},
     "output_type": "execute_result"
    }
   ],
   "source": [
    "# convert labels \"string\" to \"int\"\n",
    "anno_tmp = np.ones(len(anno_text[\"label\"]))\n",
    "for i in range(len(anno_tmp)):\n",
    "    anno_tmp[i] = action_index[anno_text[\"label\"][i]]\n",
    "label_num = pd.Series(anno_tmp, name=\"label_num\")\n",
    "anno_num = pd.concat([anno_text.loc[:, [\"start\",\"end\"]], label_num], axis=1)\n",
    "anno_num.head()"
   ]
  },
  {
   "cell_type": "code",
   "execution_count": 38,
   "metadata": {},
   "outputs": [],
   "source": [
    "# 25fpsだから、25[fps]/1000=1/40を計算する\n",
    "start_time = anno_num[\"start\"]/40\n",
    "end_time = anno_num[\"end\"]/40"
   ]
  },
  {
   "cell_type": "code",
   "execution_count": 52,
   "metadata": {},
   "outputs": [
    {
     "data": {
      "text/plain": [
       "0         1597.350\n",
       "1         1618.000\n",
       "2         1636.000\n",
       "3         1651.000\n",
       "4         1658.575\n",
       "5         1672.000\n",
       "6         1679.000\n",
       "7         1688.000\n",
       "8         1699.000\n",
       "9         1712.000\n",
       "10        2108.100\n",
       "11        2124.000\n",
       "12        2141.000\n",
       "13        2152.000\n",
       "14        2157.000\n",
       "15        2167.000\n",
       "16        2175.000\n",
       "17        2184.000\n",
       "18        2198.200\n",
       "19        2209.000\n",
       "20        2221.100\n",
       "21        2238.000\n",
       "22        2247.000\n",
       "23        2258.000\n",
       "24        2264.525\n",
       "25        2283.000\n",
       "26        2288.175\n",
       "27        2300.000\n",
       "28        2310.000\n",
       "29        2325.000\n",
       "           ...    \n",
       "2695    122787.425\n",
       "2696    122800.300\n",
       "2697    122809.200\n",
       "2698    122813.425\n",
       "2699    122827.475\n",
       "2700    122835.475\n",
       "2701    122850.700\n",
       "2702    122858.475\n",
       "2703    122874.475\n",
       "2704    122892.350\n",
       "2705    122906.800\n",
       "2706    122917.250\n",
       "2707    122928.475\n",
       "2708    122941.050\n",
       "2709    122954.575\n",
       "2710    122970.475\n",
       "2711    122986.500\n",
       "2712    122993.700\n",
       "2713    123006.475\n",
       "2714    123018.450\n",
       "2715    123032.050\n",
       "2716    123040.775\n",
       "2717    123056.300\n",
       "2718    123064.750\n",
       "2719    123086.225\n",
       "2720    123095.700\n",
       "2721    123111.275\n",
       "2722    123118.175\n",
       "2723    123135.725\n",
       "2724    123151.050\n",
       "Name: start, Length: 2725, dtype: float64"
      ]
     },
     "execution_count": 52,
     "metadata": {},
     "output_type": "execute_result"
    }
   ],
   "source": [
    "start_time"
   ]
  },
  {
   "cell_type": "code",
   "execution_count": 41,
   "metadata": {},
   "outputs": [],
   "source": [
    "imlist = os.listdir('/home/daichi/Badminton/badminton_action_recognition_using_pose_estimation/datasets/match_8/chen/')"
   ]
  },
  {
   "cell_type": "code",
   "execution_count": 42,
   "metadata": {},
   "outputs": [],
   "source": [
    "## read frames list\n",
    "# \"_\"と\".\"を正規表現で取り除く\n",
    "img_list = pd.Series(imlist).str.extract('(.+)_(.+)\\.(.+)', expand=True).dropna()\n",
    "# ソートしてnumpy配列にする\n",
    "frames = np.array(img_list.sort_values(1)[1], np.int)"
   ]
  },
  {
   "cell_type": "code",
   "execution_count": null,
   "metadata": {},
   "outputs": [],
   "source": []
  },
  {
   "cell_type": "code",
   "execution_count": 43,
   "metadata": {},
   "outputs": [],
   "source": [
    "# frameにラベル付けする\n",
    "frame_label = np.zeros(len(frames))\n",
    "for i, frame in enumerate(frames):\n",
    "    idx = np.nonzero((start_time <= frame) & (frame < end_time))[0]\n",
    "    if len(idx)>0:\n",
    "        frame_label[i] = anno_num[\"label_num\"][idx]\n",
    "    else:\n",
    "        frame_label[i] = \"NaN\""
   ]
  },
  {
   "cell_type": "code",
   "execution_count": 44,
   "metadata": {},
   "outputs": [],
   "source": [
    "# concatする\n",
    "pd_img = pd.Series(frames, name=\"Frame\")\n",
    "pd_label = pd.Series(frame_label, name=\"Label\")\n",
    "pd_img_label = pd.concat([pd_img, pd_label], axis=1)"
   ]
  },
  {
   "cell_type": "code",
   "execution_count": 45,
   "metadata": {},
   "outputs": [
    {
     "data": {
      "text/plain": [
       "(125112,)"
      ]
     },
     "execution_count": 45,
     "metadata": {},
     "output_type": "execute_result"
    }
   ],
   "source": [
    "pd_img_label[\"Label\"].shape"
   ]
  },
  {
   "cell_type": "code",
   "execution_count": 46,
   "metadata": {},
   "outputs": [],
   "source": [
    "# NaNを除去する\n",
    "feature_labels = pd_img_label.dropna()"
   ]
  },
  {
   "cell_type": "code",
   "execution_count": 47,
   "metadata": {},
   "outputs": [
    {
     "data": {
      "text/plain": [
       "(38399,)"
      ]
     },
     "execution_count": 47,
     "metadata": {},
     "output_type": "execute_result"
    }
   ],
   "source": [
    "feature_labels[\"Label\"].shape"
   ]
  },
  {
   "cell_type": "code",
   "execution_count": 48,
   "metadata": {},
   "outputs": [],
   "source": [
    "# 読み込む画像のリストを作成する\n",
    "listdir = []\n",
    "for i, num in enumerate(feature_labels[\"Frame\"]):\n",
    "    listdir.append(\"img_{0:06d}.jpg\".format(num))"
   ]
  },
  {
   "cell_type": "code",
   "execution_count": 49,
   "metadata": {},
   "outputs": [],
   "source": [
    "feature_label = list(feature_labels[\"Label\"])"
   ]
  },
  {
   "cell_type": "code",
   "execution_count": 50,
   "metadata": {},
   "outputs": [],
   "source": [
    "# フレーム名とそのラベルをDataframeで作る\n",
    "df_list = pd.Series(listdir, name=\"Img_name\")\n",
    "df_feat = pd.Series(feature_label, name=\"Labels\")\n",
    "df_label = pd.concat([df_list, df_feat], axis=1)"
   ]
  },
  {
   "cell_type": "code",
   "execution_count": 54,
   "metadata": {},
   "outputs": [],
   "source": [
    "# text fileで出力\n",
    "df_label.iloc[1:],.to_csv('/home/daichi/Badminton/badminton_action_recognition_using_pose_estimation/datasets/match_8/chen_feature_images.txt')#, index=False)"
   ]
  },
  {
   "cell_type": "code",
   "execution_count": 51,
   "metadata": {},
   "outputs": [
    {
     "data": {
      "text/html": [
       "<div>\n",
       "<style scoped>\n",
       "    .dataframe tbody tr th:only-of-type {\n",
       "        vertical-align: middle;\n",
       "    }\n",
       "\n",
       "    .dataframe tbody tr th {\n",
       "        vertical-align: top;\n",
       "    }\n",
       "\n",
       "    .dataframe thead th {\n",
       "        text-align: right;\n",
       "    }\n",
       "</style>\n",
       "<table border=\"1\" class=\"dataframe\">\n",
       "  <thead>\n",
       "    <tr style=\"text-align: right;\">\n",
       "      <th></th>\n",
       "      <th>Img_name</th>\n",
       "      <th>Labels</th>\n",
       "    </tr>\n",
       "  </thead>\n",
       "  <tbody>\n",
       "    <tr>\n",
       "      <th>0</th>\n",
       "      <td>img_001598.jpg</td>\n",
       "      <td>9.0</td>\n",
       "    </tr>\n",
       "    <tr>\n",
       "      <th>1</th>\n",
       "      <td>img_001599.jpg</td>\n",
       "      <td>9.0</td>\n",
       "    </tr>\n",
       "    <tr>\n",
       "      <th>2</th>\n",
       "      <td>img_001600.jpg</td>\n",
       "      <td>9.0</td>\n",
       "    </tr>\n",
       "    <tr>\n",
       "      <th>3</th>\n",
       "      <td>img_001601.jpg</td>\n",
       "      <td>9.0</td>\n",
       "    </tr>\n",
       "    <tr>\n",
       "      <th>4</th>\n",
       "      <td>img_001602.jpg</td>\n",
       "      <td>9.0</td>\n",
       "    </tr>\n",
       "  </tbody>\n",
       "</table>\n",
       "</div>"
      ],
      "text/plain": [
       "         Img_name  Labels\n",
       "0  img_001598.jpg     9.0\n",
       "1  img_001599.jpg     9.0\n",
       "2  img_001600.jpg     9.0\n",
       "3  img_001601.jpg     9.0\n",
       "4  img_001602.jpg     9.0"
      ]
     },
     "execution_count": 51,
     "metadata": {},
     "output_type": "execute_result"
    }
   ],
   "source": [
    "df_label.head()"
   ]
  },
  {
   "cell_type": "code",
   "execution_count": null,
   "metadata": {},
   "outputs": [],
   "source": []
  },
  {
   "cell_type": "code",
   "execution_count": null,
   "metadata": {},
   "outputs": [],
   "source": []
  },
  {
   "cell_type": "code",
   "execution_count": null,
   "metadata": {},
   "outputs": [],
   "source": []
  },
  {
   "cell_type": "code",
   "execution_count": null,
   "metadata": {},
   "outputs": [],
   "source": []
  }
 ],
 "metadata": {
  "kernelspec": {
   "display_name": "Python 3",
   "language": "python",
   "name": "python3"
  },
  "language_info": {
   "codemirror_mode": {
    "name": "ipython",
    "version": 3
   },
   "file_extension": ".py",
   "mimetype": "text/x-python",
   "name": "python",
   "nbconvert_exporter": "python",
   "pygments_lexer": "ipython3",
   "version": "3.6.3"
  }
 },
 "nbformat": 4,
 "nbformat_minor": 2
}
