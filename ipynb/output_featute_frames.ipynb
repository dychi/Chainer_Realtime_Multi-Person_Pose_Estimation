{
 "cells": [
  {
   "cell_type": "code",
   "execution_count": 1,
   "metadata": {},
   "outputs": [],
   "source": [
    "import os\n",
    "import pandas as pd\n",
    "import numpy as np"
   ]
  },
  {
   "cell_type": "code",
   "execution_count": 3,
   "metadata": {},
   "outputs": [
    {
     "data": {
      "text/html": [
       "<div>\n",
       "<style>\n",
       "    .dataframe thead tr:only-child th {\n",
       "        text-align: right;\n",
       "    }\n",
       "\n",
       "    .dataframe thead th {\n",
       "        text-align: left;\n",
       "    }\n",
       "\n",
       "    .dataframe tbody tr th {\n",
       "        vertical-align: top;\n",
       "    }\n",
       "</style>\n",
       "<table border=\"1\" class=\"dataframe\">\n",
       "  <thead>\n",
       "    <tr style=\"text-align: right;\">\n",
       "      <th></th>\n",
       "      <th>start</th>\n",
       "      <th>end</th>\n",
       "      <th>label</th>\n",
       "    </tr>\n",
       "  </thead>\n",
       "  <tbody>\n",
       "    <tr>\n",
       "      <th>0</th>\n",
       "      <td>324290</td>\n",
       "      <td>330800</td>\n",
       "      <td>n</td>\n",
       "    </tr>\n",
       "    <tr>\n",
       "      <th>1</th>\n",
       "      <td>330800</td>\n",
       "      <td>332440</td>\n",
       "      <td>spb</td>\n",
       "    </tr>\n",
       "    <tr>\n",
       "      <th>2</th>\n",
       "      <td>332440</td>\n",
       "      <td>333019</td>\n",
       "      <td>bhpt</td>\n",
       "    </tr>\n",
       "    <tr>\n",
       "      <th>3</th>\n",
       "      <td>333019</td>\n",
       "      <td>334456</td>\n",
       "      <td>rtpb</td>\n",
       "    </tr>\n",
       "    <tr>\n",
       "      <th>4</th>\n",
       "      <td>334460</td>\n",
       "      <td>335890</td>\n",
       "      <td>n</td>\n",
       "    </tr>\n",
       "  </tbody>\n",
       "</table>\n",
       "</div>"
      ],
      "text/plain": [
       "    start     end label\n",
       "0  324290  330800     n\n",
       "1  330800  332440   spb\n",
       "2  332440  333019  bhpt\n",
       "3  333019  334456  rtpb\n",
       "4  334460  335890     n"
      ]
     },
     "execution_count": 3,
     "metadata": {},
     "output_type": "execute_result"
    }
   ],
   "source": [
    "# read annotation file\n",
    "anno_text = pd.read_csv('../../Annotations/fine_anno_txt/Baun-Augustyn-GrpG-LondonOlympics-2012.txt', header=None, sep='', delimiter='\\t', usecols=[2,3,5], names=[\"start\", \"end\", \"label\"])\n",
    "anno_text.head()"
   ]
  },
  {
   "cell_type": "code",
   "execution_count": 4,
   "metadata": {},
   "outputs": [
    {
     "data": {
      "text/plain": [
       "{'bhpb': 6,\n",
       " 'bhpt': 5,\n",
       " 'fhpb': 8,\n",
       " 'fhpt': 7,\n",
       " 'lbpb': 10,\n",
       " 'lbpt': 9,\n",
       " 'n': 0,\n",
       " 'rtpb': 4,\n",
       " 'rtpt': 3,\n",
       " 'smpb': 2,\n",
       " 'smpt': 1,\n",
       " 'spb': 12,\n",
       " 'spt': 11}"
      ]
     },
     "execution_count": 4,
     "metadata": {},
     "output_type": "execute_result"
    }
   ],
   "source": [
    "# create action label dictionary\n",
    "action_labels = pd.read_csv('./labels.txt', header=None, sep='\\t')\n",
    "action_index = {l:i for i,l in enumerate(action_labels[0])}\n",
    "action_index"
   ]
  },
  {
   "cell_type": "code",
   "execution_count": 19,
   "metadata": {},
   "outputs": [
    {
     "data": {
      "text/html": [
       "<div>\n",
       "<style>\n",
       "    .dataframe thead tr:only-child th {\n",
       "        text-align: right;\n",
       "    }\n",
       "\n",
       "    .dataframe thead th {\n",
       "        text-align: left;\n",
       "    }\n",
       "\n",
       "    .dataframe tbody tr th {\n",
       "        vertical-align: top;\n",
       "    }\n",
       "</style>\n",
       "<table border=\"1\" class=\"dataframe\">\n",
       "  <thead>\n",
       "    <tr style=\"text-align: right;\">\n",
       "      <th></th>\n",
       "      <th>start</th>\n",
       "      <th>end</th>\n",
       "      <th>label_num</th>\n",
       "    </tr>\n",
       "  </thead>\n",
       "  <tbody>\n",
       "    <tr>\n",
       "      <th>0</th>\n",
       "      <td>324290</td>\n",
       "      <td>330800</td>\n",
       "      <td>0.0</td>\n",
       "    </tr>\n",
       "    <tr>\n",
       "      <th>1</th>\n",
       "      <td>330800</td>\n",
       "      <td>332440</td>\n",
       "      <td>12.0</td>\n",
       "    </tr>\n",
       "    <tr>\n",
       "      <th>2</th>\n",
       "      <td>332440</td>\n",
       "      <td>333019</td>\n",
       "      <td>5.0</td>\n",
       "    </tr>\n",
       "    <tr>\n",
       "      <th>3</th>\n",
       "      <td>333019</td>\n",
       "      <td>334456</td>\n",
       "      <td>4.0</td>\n",
       "    </tr>\n",
       "    <tr>\n",
       "      <th>4</th>\n",
       "      <td>334460</td>\n",
       "      <td>335890</td>\n",
       "      <td>0.0</td>\n",
       "    </tr>\n",
       "  </tbody>\n",
       "</table>\n",
       "</div>"
      ],
      "text/plain": [
       "    start     end  label_num\n",
       "0  324290  330800        0.0\n",
       "1  330800  332440       12.0\n",
       "2  332440  333019        5.0\n",
       "3  333019  334456        4.0\n",
       "4  334460  335890        0.0"
      ]
     },
     "execution_count": 19,
     "metadata": {},
     "output_type": "execute_result"
    }
   ],
   "source": [
    "# convert labels \"string\" to \"int\"\n",
    "anno_tmp = np.ones(len(anno_text[\"label\"]))\n",
    "for i in range(len(anno_tmp)):\n",
    "    anno_tmp[i] = action_index[anno_text[\"label\"][i]]\n",
    "label_num = pd.Series(anno_tmp, name=\"label_num\")\n",
    "anno_num = pd.concat([anno_text.loc[:, [\"start\",\"end\"]], label_num], axis=1)\n",
    "anno_num.head()"
   ]
  },
  {
   "cell_type": "code",
   "execution_count": 103,
   "metadata": {},
   "outputs": [
    {
     "data": {
      "text/plain": [
       "numpy.int64"
      ]
     },
     "execution_count": 103,
     "metadata": {},
     "output_type": "execute_result"
    }
   ],
   "source": [
    "start_time = anno_num[\"start\"]//40\n",
    "end_time = anno_num[\"end\"]//40\n",
    "type(end_time[0])"
   ]
  },
  {
   "cell_type": "code",
   "execution_count": 104,
   "metadata": {},
   "outputs": [],
   "source": [
    "## read frames list\n",
    "# \"_\"と\".\"を正規表現で取り除く\n",
    "img_list = pd.Series(os.listdir('../../Annotations/youtube/baun/')).str.extract('(.+)_(.+)\\.(.+)', expand=True)\n",
    "# ソートしてnumpy配列にする\n",
    "frames = np.array(img_list.sort_values(1)[1], np.int)"
   ]
  },
  {
   "cell_type": "code",
   "execution_count": 105,
   "metadata": {},
   "outputs": [],
   "source": [
    "# frameにラベル付けする\n",
    "frame_label = np.zeros(len(frames))\n",
    "for i, frame in enumerate(frames):\n",
    "    idx = np.nonzero((start_time <= frame) & (frame < end_time))[0]\n",
    "    if len(idx)>0:\n",
    "        frame_label[i] = anno_num[\"label_num\"][idx]\n",
    "    else:\n",
    "        frame_label[i] = \"NaN\""
   ]
  },
  {
   "cell_type": "code",
   "execution_count": 108,
   "metadata": {},
   "outputs": [],
   "source": [
    "# concatする\n",
    "pd_img = pd.Series(frames, name=\"Frame\")\n",
    "pd_label = pd.Series(frame_label, name=\"Label\")\n",
    "pd_img_label = pd.concat([pd_img, pd_label], axis=1)"
   ]
  },
  {
   "cell_type": "code",
   "execution_count": 176,
   "metadata": {},
   "outputs": [
    {
     "data": {
      "text/plain": [
       "(13797,)"
      ]
     },
     "execution_count": 176,
     "metadata": {},
     "output_type": "execute_result"
    }
   ],
   "source": [
    "feature_labels[\"Label\"].shape"
   ]
  },
  {
   "cell_type": "code",
   "execution_count": 173,
   "metadata": {},
   "outputs": [],
   "source": [
    "# NaNを除去する\n",
    "feature_labels = pd_img_label.dropna()"
   ]
  },
  {
   "cell_type": "code",
   "execution_count": 174,
   "metadata": {},
   "outputs": [],
   "source": [
    "# 読み込む画像のリストを作成する\n",
    "listdir = []\n",
    "for i, num in enumerate(feature_labels[\"Frame\"]):\n",
    "    listdir.append(\"img_{0:05d}.png\".format(num))\n"
   ]
  },
  {
   "cell_type": "code",
   "execution_count": 196,
   "metadata": {},
   "outputs": [],
   "source": [
    "feature_label = list(feature_labels[\"Label\"])"
   ]
  },
  {
   "cell_type": "code",
   "execution_count": 197,
   "metadata": {},
   "outputs": [],
   "source": [
    "# フレーム名とそのラベルをDataframeで作る\n",
    "df_list = pd.Series(listdir, name=\"Img_name\")\n",
    "df_feat = pd.Series(feature_label, name=\"Labels\")\n",
    "df_label = pd.concat([df_list, df_feat], axis=1)"
   ]
  },
  {
   "cell_type": "code",
   "execution_count": 200,
   "metadata": {},
   "outputs": [],
   "source": [
    "# text fileで出力\n",
    "df_label.to_csv('feature_images.txt')"
   ]
  },
  {
   "cell_type": "code",
   "execution_count": 199,
   "metadata": {},
   "outputs": [
    {
     "data": {
      "text/html": [
       "<div>\n",
       "<style>\n",
       "    .dataframe thead tr:only-child th {\n",
       "        text-align: right;\n",
       "    }\n",
       "\n",
       "    .dataframe thead th {\n",
       "        text-align: left;\n",
       "    }\n",
       "\n",
       "    .dataframe tbody tr th {\n",
       "        vertical-align: top;\n",
       "    }\n",
       "</style>\n",
       "<table border=\"1\" class=\"dataframe\">\n",
       "  <thead>\n",
       "    <tr style=\"text-align: right;\">\n",
       "      <th></th>\n",
       "      <th>Img_name</th>\n",
       "      <th>Labels</th>\n",
       "    </tr>\n",
       "  </thead>\n",
       "  <tbody>\n",
       "    <tr>\n",
       "      <th>13792</th>\n",
       "      <td>img_44873.png</td>\n",
       "      <td>0.0</td>\n",
       "    </tr>\n",
       "    <tr>\n",
       "      <th>13793</th>\n",
       "      <td>img_44874.png</td>\n",
       "      <td>0.0</td>\n",
       "    </tr>\n",
       "    <tr>\n",
       "      <th>13794</th>\n",
       "      <td>img_44875.png</td>\n",
       "      <td>0.0</td>\n",
       "    </tr>\n",
       "    <tr>\n",
       "      <th>13795</th>\n",
       "      <td>img_44876.png</td>\n",
       "      <td>0.0</td>\n",
       "    </tr>\n",
       "    <tr>\n",
       "      <th>13796</th>\n",
       "      <td>img_44877.png</td>\n",
       "      <td>0.0</td>\n",
       "    </tr>\n",
       "  </tbody>\n",
       "</table>\n",
       "</div>"
      ],
      "text/plain": [
       "            Img_name  Labels\n",
       "13792  img_44873.png     0.0\n",
       "13793  img_44874.png     0.0\n",
       "13794  img_44875.png     0.0\n",
       "13795  img_44876.png     0.0\n",
       "13796  img_44877.png     0.0"
      ]
     },
     "execution_count": 199,
     "metadata": {},
     "output_type": "execute_result"
    }
   ],
   "source": [
    "df_label.tail()"
   ]
  },
  {
   "cell_type": "code",
   "execution_count": 152,
   "metadata": {},
   "outputs": [
    {
     "name": "stdout",
     "output_type": "stream",
     "text": [
      "  PID TTY          TIME CMD\n",
      " 3701 pts/6    00:00:00 sh\n",
      " 3702 pts/6    00:00:00 ps\n"
     ]
    }
   ],
   "source": [
    "!ps "
   ]
  },
  {
   "cell_type": "code",
   "execution_count": null,
   "metadata": {},
   "outputs": [],
   "source": []
  }
 ],
 "metadata": {
  "kernelspec": {
   "display_name": "Python 3",
   "language": "python",
   "name": "python3"
  },
  "language_info": {
   "codemirror_mode": {
    "name": "ipython",
    "version": 3
   },
   "file_extension": ".py",
   "mimetype": "text/x-python",
   "name": "python",
   "nbconvert_exporter": "python",
   "pygments_lexer": "ipython3",
   "version": "3.6.3"
  }
 },
 "nbformat": 4,
 "nbformat_minor": 2
}
